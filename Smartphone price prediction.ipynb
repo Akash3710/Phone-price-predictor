{
 "cells": [
  {
   "cell_type": "markdown",
   "id": "go_8ivligfkn",
   "metadata": {
    "id": "go_8ivligfkn"
   },
   "source": [
    "#                                                  Phone Price Predictor\n",
    "### By Akash Saini"
   ]
  },
  {
   "cell_type": "markdown",
   "id": "bb338845-21f4-43ad-bbfe-cdcee47b421b",
   "metadata": {},
   "source": [
    "<img src=\"smartphones_image.jpg\" alt=\"Flights\" width=\"500\">\n"
   ]
  },
  {
   "cell_type": "markdown",
   "id": "JBmU8_O-giES",
   "metadata": {
    "id": "JBmU8_O-giES"
   },
   "source": [
    "# Step 1: Problem statement\n",
    "\n",
    "**Smartphone pricing is a critical challenge for businesses and consumers alike. With thousands of models launched every year, retailers often struggle to set competitive, data-driven prices, while consumers find it difficult to evaluate whether a device is worth its cost. This mismatch leads to inefficient pricing strategies, revenue loss for businesses, and poor decision-making for buyers.**\n",
    "\n",
    "**To solve this business problem, I built the Smartphone Price Predictor, a machine learning solution that leverages smartphone specifications (RAM, storage, battery, processor, camera, etc.) to predict prices with accuracy. The model provides:**\n",
    "\n",
    "**Actionable insights for businesses to optimize pricing strategies and remain competitive in the market.**\n",
    "\n",
    " **Confidence for consumers in identifying fair prices and making smarter purchase decisions.**\n",
    "\n",
    "**By aligning product specifications with real market value, this project demonstrates how data science can directly impact pricing strategy, customer trust, and overall business performance**"
   ]
  },
  {
   "cell_type": "code",
   "execution_count": 4,
   "id": "62a35872",
   "metadata": {
    "id": "62a35872"
   },
   "outputs": [],
   "source": [
    "import numpy as np\n",
    "import pandas as pd\n",
    "from sklearn.compose import ColumnTransformer\n",
    "from sklearn.pipeline import Pipeline\n",
    "from sklearn.preprocessing import OneHotEncoder\n",
    "from sklearn.model_selection import train_test_split\n",
    "from sklearn.model_selection import GridSearchCV\n",
    "from sklearn.preprocessing import StandardScaler\n",
    "from xgboost import XGBRegressor\n",
    "from sklearn.metrics import mean_absolute_error, mean_squared_error, r2_score\n",
    "df = pd.read_csv(\"smartphone.csv\")"
   ]
  },
  {
   "cell_type": "code",
   "execution_count": 5,
   "id": "bc22b62f",
   "metadata": {
    "colab": {
     "base_uri": "https://localhost:8080/",
     "height": 293
    },
    "id": "bc22b62f",
    "outputId": "54b8f976-c554-4bc9-d03b-028657514cf9"
   },
   "outputs": [
    {
     "data": {
      "text/html": [
       "<div>\n",
       "<style scoped>\n",
       "    .dataframe tbody tr th:only-of-type {\n",
       "        vertical-align: middle;\n",
       "    }\n",
       "\n",
       "    .dataframe tbody tr th {\n",
       "        vertical-align: top;\n",
       "    }\n",
       "\n",
       "    .dataframe thead th {\n",
       "        text-align: right;\n",
       "    }\n",
       "</style>\n",
       "<table border=\"1\" class=\"dataframe\">\n",
       "  <thead>\n",
       "    <tr style=\"text-align: right;\">\n",
       "      <th></th>\n",
       "      <th>Brand</th>\n",
       "      <th>Memory</th>\n",
       "      <th>Camera</th>\n",
       "      <th>Battery</th>\n",
       "      <th>Processor</th>\n",
       "      <th>Ratings</th>\n",
       "      <th>Reviews</th>\n",
       "      <th>Price</th>\n",
       "    </tr>\n",
       "  </thead>\n",
       "  <tbody>\n",
       "    <tr>\n",
       "      <th>0</th>\n",
       "      <td>Infinix Note 30 5G (Sunset Gold, 256 GB)</td>\n",
       "      <td>8 GB RAM | 256 GB ROM | Expandable Upto 2 TB</td>\n",
       "      <td>108 MP + 2 MP+ AI Lens | 16MP Front Camera</td>\n",
       "      <td>5000 mAh Li-ion Polymer Battery</td>\n",
       "      <td>Dimensity 6080 Processor</td>\n",
       "      <td>4.2</td>\n",
       "      <td>81,666 Ratings &amp; 8,897 Reviews</td>\n",
       "      <td>₹14,999</td>\n",
       "    </tr>\n",
       "    <tr>\n",
       "      <th>1</th>\n",
       "      <td>REDMI 12 5G (Moonstone Silver, 128 GB)</td>\n",
       "      <td>6 GB RAM | 128 GB ROM | Expandable Upto 1 TB</td>\n",
       "      <td>50MP + 2MP | 8MP Front Camera</td>\n",
       "      <td>5000 mAh Battery</td>\n",
       "      <td>Snapdragon 4 Gen 2 Processor</td>\n",
       "      <td>4.3</td>\n",
       "      <td>17,785 Ratings &amp; 1,158 Reviews</td>\n",
       "      <td>₹12,999</td>\n",
       "    </tr>\n",
       "    <tr>\n",
       "      <th>2</th>\n",
       "      <td>Apple iPhone 15 (Black, 128 GB)</td>\n",
       "      <td>128 GB ROM</td>\n",
       "      <td>48MP + 12MP | 12MP Front Camera</td>\n",
       "      <td>A16 Bionic Chip, 6 Core Processor Processor</td>\n",
       "      <td>1 Year Warranty for Phone and 6 Months Warrant...</td>\n",
       "      <td>4.6</td>\n",
       "      <td>13,517 Ratings &amp; 921 Reviews</td>\n",
       "      <td>₹65,999</td>\n",
       "    </tr>\n",
       "    <tr>\n",
       "      <th>3</th>\n",
       "      <td>Motorola G34 5G (Ice Blue, 128 GB)</td>\n",
       "      <td>8 GB RAM | 128 GB ROM</td>\n",
       "      <td>50MP + 2MP | 16MP Front Camera</td>\n",
       "      <td>5000 mAh Battery</td>\n",
       "      <td>Snapdragon 695 5G Processor</td>\n",
       "      <td>4.2</td>\n",
       "      <td>6,022 Ratings &amp; 836 Reviews</td>\n",
       "      <td>₹11,999</td>\n",
       "    </tr>\n",
       "    <tr>\n",
       "      <th>4</th>\n",
       "      <td>vivo T2 5G (Nitro Blaze, 128 GB)</td>\n",
       "      <td>8 GB RAM | 128 GB ROM</td>\n",
       "      <td>64 MP (OIS) + 2MP | 16MP Front Camera</td>\n",
       "      <td>4500 mAh Battery</td>\n",
       "      <td>Snapdragon 695 Processor</td>\n",
       "      <td>4.3</td>\n",
       "      <td>16,572 Ratings &amp; 1,166 Reviews</td>\n",
       "      <td>₹17,999</td>\n",
       "    </tr>\n",
       "  </tbody>\n",
       "</table>\n",
       "</div>"
      ],
      "text/plain": [
       "                                      Brand  \\\n",
       "0  Infinix Note 30 5G (Sunset Gold, 256 GB)   \n",
       "1    REDMI 12 5G (Moonstone Silver, 128 GB)   \n",
       "2           Apple iPhone 15 (Black, 128 GB)   \n",
       "3        Motorola G34 5G (Ice Blue, 128 GB)   \n",
       "4          vivo T2 5G (Nitro Blaze, 128 GB)   \n",
       "\n",
       "                                         Memory  \\\n",
       "0  8 GB RAM | 256 GB ROM | Expandable Upto 2 TB   \n",
       "1  6 GB RAM | 128 GB ROM | Expandable Upto 1 TB   \n",
       "2                                    128 GB ROM   \n",
       "3                         8 GB RAM | 128 GB ROM   \n",
       "4                         8 GB RAM | 128 GB ROM   \n",
       "\n",
       "                                       Camera  \\\n",
       "0  108 MP + 2 MP+ AI Lens | 16MP Front Camera   \n",
       "1               50MP + 2MP | 8MP Front Camera   \n",
       "2             48MP + 12MP | 12MP Front Camera   \n",
       "3              50MP + 2MP | 16MP Front Camera   \n",
       "4       64 MP (OIS) + 2MP | 16MP Front Camera   \n",
       "\n",
       "                                       Battery  \\\n",
       "0              5000 mAh Li-ion Polymer Battery   \n",
       "1                             5000 mAh Battery   \n",
       "2  A16 Bionic Chip, 6 Core Processor Processor   \n",
       "3                             5000 mAh Battery   \n",
       "4                             4500 mAh Battery   \n",
       "\n",
       "                                           Processor  Ratings  \\\n",
       "0                           Dimensity 6080 Processor      4.2   \n",
       "1                       Snapdragon 4 Gen 2 Processor      4.3   \n",
       "2  1 Year Warranty for Phone and 6 Months Warrant...      4.6   \n",
       "3                        Snapdragon 695 5G Processor      4.2   \n",
       "4                           Snapdragon 695 Processor      4.3   \n",
       "\n",
       "                          Reviews    Price  \n",
       "0  81,666 Ratings & 8,897 Reviews  ₹14,999  \n",
       "1  17,785 Ratings & 1,158 Reviews  ₹12,999  \n",
       "2    13,517 Ratings & 921 Reviews  ₹65,999  \n",
       "3     6,022 Ratings & 836 Reviews  ₹11,999  \n",
       "4  16,572 Ratings & 1,166 Reviews  ₹17,999  "
      ]
     },
     "execution_count": 5,
     "metadata": {},
     "output_type": "execute_result"
    }
   ],
   "source": [
    "df.head()"
   ]
  },
  {
   "cell_type": "markdown",
   "id": "0ac41602",
   "metadata": {
    "id": "0ac41602"
   },
   "source": [
    "- Above is the dataset containing information about the smartphones\n",
    "- Columns are Brand, Memory, Camera, Battery, Processor, Ratings, Reviews and Price\n",
    "- Brand includes the names of brand of the smartphones in different rows\n",
    "- Memory contains information about the ROM and ROM\n",
    "- Camera cantains the number and the megapixels of both the front and the Rear Cameras\n",
    "- Battery contains the size of the Battery in mAh\n",
    "- Rating contains the Ratings given by the customers to different smartphones\n",
    "- Reviews contains the number of customers which has rated the smartphone and written the Reviews about the smartphone\n",
    "- Price includes the amount you have give in order to purchase the smartphone"
   ]
  },
  {
   "cell_type": "markdown",
   "id": "99f818d8",
   "metadata": {
    "id": "99f818d8"
   },
   "source": [
    "# Step 2: Data Preprocessing"
   ]
  },
  {
   "cell_type": "code",
   "execution_count": 8,
   "id": "3fe89e18",
   "metadata": {
    "colab": {
     "base_uri": "https://localhost:8080/"
    },
    "id": "3fe89e18",
    "outputId": "8fbc3cbb-45c1-42e4-c159-6dfe8afe5d41"
   },
   "outputs": [
    {
     "name": "stdout",
     "output_type": "stream",
     "text": [
      "<class 'pandas.core.frame.DataFrame'>\n",
      "RangeIndex: 984 entries, 0 to 983\n",
      "Data columns (total 8 columns):\n",
      " #   Column     Non-Null Count  Dtype  \n",
      "---  ------     --------------  -----  \n",
      " 0   Brand      984 non-null    object \n",
      " 1   Memory     984 non-null    object \n",
      " 2   Camera     984 non-null    object \n",
      " 3   Battery    984 non-null    object \n",
      " 4   Processor  984 non-null    object \n",
      " 5   Ratings    979 non-null    float64\n",
      " 6   Reviews    979 non-null    object \n",
      " 7   Price      983 non-null    object \n",
      "dtypes: float64(1), object(7)\n",
      "memory usage: 61.6+ KB\n"
     ]
    }
   ],
   "source": [
    "#basic info of data\n",
    "df.info()"
   ]
  },
  {
   "cell_type": "code",
   "execution_count": 9,
   "id": "055ac1ae",
   "metadata": {
    "colab": {
     "base_uri": "https://localhost:8080/"
    },
    "id": "055ac1ae",
    "outputId": "bdf7a171-1a89-487a-b9c7-7b010e0b03e9"
   },
   "outputs": [
    {
     "data": {
      "text/plain": [
       "Brand        0\n",
       "Memory       0\n",
       "Camera       0\n",
       "Battery      0\n",
       "Processor    0\n",
       "Ratings      5\n",
       "Reviews      5\n",
       "Price        1\n",
       "dtype: int64"
      ]
     },
     "execution_count": 9,
     "metadata": {},
     "output_type": "execute_result"
    }
   ],
   "source": [
    "# checking for null values\n",
    "df.isnull().sum()"
   ]
  },
  {
   "cell_type": "code",
   "execution_count": 10,
   "id": "050d5215",
   "metadata": {
    "id": "050d5215"
   },
   "outputs": [],
   "source": [
    "# dropping the null values\n",
    "df.dropna(inplace =True)"
   ]
  },
  {
   "cell_type": "code",
   "execution_count": 11,
   "id": "ba5d845f",
   "metadata": {
    "colab": {
     "base_uri": "https://localhost:8080/"
    },
    "id": "ba5d845f",
    "outputId": "4cb87e32-5850-490d-bc36-83e44fb50ec5"
   },
   "outputs": [
    {
     "data": {
      "text/plain": [
       "313"
      ]
     },
     "execution_count": 11,
     "metadata": {},
     "output_type": "execute_result"
    }
   ],
   "source": [
    "# checking the duplicates values\n",
    "df.duplicated().sum()"
   ]
  },
  {
   "cell_type": "code",
   "execution_count": 12,
   "id": "bb12386f",
   "metadata": {
    "id": "bb12386f"
   },
   "outputs": [],
   "source": [
    "# dropping the duplicate values\n",
    "df.drop_duplicates(inplace=True)"
   ]
  },
  {
   "cell_type": "code",
   "execution_count": 13,
   "id": "50e54cdd",
   "metadata": {
    "colab": {
     "base_uri": "https://localhost:8080/"
    },
    "id": "50e54cdd",
    "outputId": "9e2d330a-8802-489b-8b14-1b4e03e2c700"
   },
   "outputs": [
    {
     "data": {
      "text/plain": [
       "0"
      ]
     },
     "execution_count": 13,
     "metadata": {},
     "output_type": "execute_result"
    }
   ],
   "source": [
    "df.duplicated().sum()"
   ]
  },
  {
   "cell_type": "code",
   "execution_count": 14,
   "id": "d3dcce85",
   "metadata": {
    "id": "d3dcce85"
   },
   "outputs": [],
   "source": [
    "# taking out the brand name to a separate column\n",
    "df[\"Brand_name\"] = df[\"Brand\"].str.split().str[0]"
   ]
  },
  {
   "cell_type": "code",
   "execution_count": 15,
   "id": "79db8d5f",
   "metadata": {
    "colab": {
     "base_uri": "https://localhost:8080/",
     "height": 195
    },
    "id": "79db8d5f",
    "outputId": "f782edb2-3592-4e09-d193-1ac8a557a0e6"
   },
   "outputs": [
    {
     "data": {
      "text/html": [
       "<div>\n",
       "<style scoped>\n",
       "    .dataframe tbody tr th:only-of-type {\n",
       "        vertical-align: middle;\n",
       "    }\n",
       "\n",
       "    .dataframe tbody tr th {\n",
       "        vertical-align: top;\n",
       "    }\n",
       "\n",
       "    .dataframe thead th {\n",
       "        text-align: right;\n",
       "    }\n",
       "</style>\n",
       "<table border=\"1\" class=\"dataframe\">\n",
       "  <thead>\n",
       "    <tr style=\"text-align: right;\">\n",
       "      <th></th>\n",
       "      <th>Brand</th>\n",
       "      <th>Memory</th>\n",
       "      <th>Camera</th>\n",
       "      <th>Battery</th>\n",
       "      <th>Processor</th>\n",
       "      <th>Ratings</th>\n",
       "      <th>Reviews</th>\n",
       "      <th>Price</th>\n",
       "      <th>Brand_name</th>\n",
       "    </tr>\n",
       "  </thead>\n",
       "  <tbody>\n",
       "    <tr>\n",
       "      <th>260</th>\n",
       "      <td>REDMI 13c 5G (Starlight Black, 256 GB)</td>\n",
       "      <td>8 GB RAM | 256 GB ROM</td>\n",
       "      <td>50MP Rear Camera</td>\n",
       "      <td>5000 mAh Battery</td>\n",
       "      <td>1 Year</td>\n",
       "      <td>4.2</td>\n",
       "      <td>793 Ratings &amp; 59 Reviews</td>\n",
       "      <td>₹14,202</td>\n",
       "      <td>REDMI</td>\n",
       "    </tr>\n",
       "    <tr>\n",
       "      <th>330</th>\n",
       "      <td>realme Narzo N55 (Prime Black, 128 GB)</td>\n",
       "      <td>6 GB RAM | 128 GB ROM</td>\n",
       "      <td>64MP Rear Camera</td>\n",
       "      <td>5000 mAh Battery</td>\n",
       "      <td>1 Year Domestic Warranty for Phone and 6 Month...</td>\n",
       "      <td>4.3</td>\n",
       "      <td>4,294 Ratings &amp; 235 Reviews</td>\n",
       "      <td>₹9,929</td>\n",
       "      <td>realme</td>\n",
       "    </tr>\n",
       "    <tr>\n",
       "      <th>75</th>\n",
       "      <td>OnePlus Nord CE 3 Lite 5G (Chromatic Gray, 128...</td>\n",
       "      <td>8 GB RAM | 128 GB ROM</td>\n",
       "      <td>108MP Rear Camera</td>\n",
       "      <td>5000 mAh Battery</td>\n",
       "      <td>Domestic Warranty of 12 months on phone &amp; 6 mo...</td>\n",
       "      <td>4.4</td>\n",
       "      <td>52,460 Ratings &amp; 3,674 Reviews</td>\n",
       "      <td>₹18,999</td>\n",
       "      <td>OnePlus</td>\n",
       "    </tr>\n",
       "  </tbody>\n",
       "</table>\n",
       "</div>"
      ],
      "text/plain": [
       "                                                 Brand                 Memory  \\\n",
       "260             REDMI 13c 5G (Starlight Black, 256 GB)  8 GB RAM | 256 GB ROM   \n",
       "330             realme Narzo N55 (Prime Black, 128 GB)  6 GB RAM | 128 GB ROM   \n",
       "75   OnePlus Nord CE 3 Lite 5G (Chromatic Gray, 128...  8 GB RAM | 128 GB ROM   \n",
       "\n",
       "                Camera           Battery  \\\n",
       "260   50MP Rear Camera  5000 mAh Battery   \n",
       "330   64MP Rear Camera  5000 mAh Battery   \n",
       "75   108MP Rear Camera  5000 mAh Battery   \n",
       "\n",
       "                                             Processor  Ratings  \\\n",
       "260                                             1 Year      4.2   \n",
       "330  1 Year Domestic Warranty for Phone and 6 Month...      4.3   \n",
       "75   Domestic Warranty of 12 months on phone & 6 mo...      4.4   \n",
       "\n",
       "                            Reviews    Price Brand_name  \n",
       "260        793 Ratings & 59 Reviews  ₹14,202      REDMI  \n",
       "330     4,294 Ratings & 235 Reviews   ₹9,929     realme  \n",
       "75   52,460 Ratings & 3,674 Reviews  ₹18,999    OnePlus  "
      ]
     },
     "execution_count": 15,
     "metadata": {},
     "output_type": "execute_result"
    }
   ],
   "source": [
    "df.sample(3)"
   ]
  },
  {
   "cell_type": "code",
   "execution_count": 16,
   "id": "c36b2a05",
   "metadata": {
    "id": "c36b2a05"
   },
   "outputs": [],
   "source": [
    "# making a separate column for the availability of the 5g phones\n",
    "df[\"5G\"] = df[\"Brand\"].apply(lambda x : 1 if \"5G\" in x else 0)"
   ]
  },
  {
   "cell_type": "code",
   "execution_count": 17,
   "id": "d93170a7",
   "metadata": {
    "id": "d93170a7"
   },
   "outputs": [],
   "source": [
    "# making a function which will store the RAM values in separate column\n",
    "# as the ram of all the apple smartphones are not given\n",
    "# so this function will assign ram = 4GB where ever it will find the apple smartphones\n",
    "# 4GB is the average value of the ram size of apple smartphones\n",
    "\n",
    "def ram_splitter(brand, memory):\n",
    "    brand = str(brand)\n",
    "    memory = str(memory)\n",
    "\n",
    "    if \"RAM\" in memory:\n",
    "        return memory.split(\"|\")[0]\n",
    "    elif \"Apple\" in brand:\n",
    "        return \"4GB\"\n",
    "    else:\n",
    "        return 0\n",
    "\n",
    "df[\"RAM\"] = df[[\"Brand_name\", \"Memory\"]].apply(lambda x: ram_splitter(x[\"Brand_name\"], x[\"Memory\"]), axis=1)"
   ]
  },
  {
   "cell_type": "code",
   "execution_count": 18,
   "id": "a0ad5fcc",
   "metadata": {
    "id": "a0ad5fcc"
   },
   "outputs": [],
   "source": [
    "# making a function which will store the ROM values in separate column\n",
    "def extract_rom(memory):\n",
    "\n",
    "    memory_parts = memory.split(\"|\")\n",
    "\n",
    "    rom = None\n",
    "\n",
    "    for part in memory_parts:\n",
    "        part = part.strip()\n",
    "\n",
    "        if \"GB ROM\" in part or \"TB ROM\" in part:\n",
    "            rom = part.replace(\"ROM\", \"\").strip()\n",
    "\n",
    "    return rom\n",
    "\n",
    "df[\"ROM\"] = df[\"Memory\"].apply(extract_rom)"
   ]
  },
  {
   "cell_type": "code",
   "execution_count": 19,
   "id": "7fc8b1a0",
   "metadata": {
    "colab": {
     "base_uri": "https://localhost:8080/",
     "height": 247
    },
    "id": "7fc8b1a0",
    "outputId": "018773f7-ca4a-41ed-ac09-8dd78fee6819"
   },
   "outputs": [
    {
     "data": {
      "text/html": [
       "<div>\n",
       "<style scoped>\n",
       "    .dataframe tbody tr th:only-of-type {\n",
       "        vertical-align: middle;\n",
       "    }\n",
       "\n",
       "    .dataframe tbody tr th {\n",
       "        vertical-align: top;\n",
       "    }\n",
       "\n",
       "    .dataframe thead th {\n",
       "        text-align: right;\n",
       "    }\n",
       "</style>\n",
       "<table border=\"1\" class=\"dataframe\">\n",
       "  <thead>\n",
       "    <tr style=\"text-align: right;\">\n",
       "      <th></th>\n",
       "      <th>Brand</th>\n",
       "      <th>Memory</th>\n",
       "      <th>Camera</th>\n",
       "      <th>Battery</th>\n",
       "      <th>Processor</th>\n",
       "      <th>Ratings</th>\n",
       "      <th>Reviews</th>\n",
       "      <th>Price</th>\n",
       "      <th>Brand_name</th>\n",
       "      <th>5G</th>\n",
       "      <th>RAM</th>\n",
       "      <th>ROM</th>\n",
       "    </tr>\n",
       "  </thead>\n",
       "  <tbody>\n",
       "    <tr>\n",
       "      <th>282</th>\n",
       "      <td>SAMSUNG Galaxy M04 (Dark Blue, 64 GB)</td>\n",
       "      <td>4 GB RAM | 64 GB ROM | Expandable Upto 1 TB</td>\n",
       "      <td>13MP + 13MP | 5MP + 5MP Dual Front Camera</td>\n",
       "      <td>5000 mAh Battery</td>\n",
       "      <td>MediaTek Helio P35 octa core Processor</td>\n",
       "      <td>4.1</td>\n",
       "      <td>9,830 Ratings &amp; 563 Reviews</td>\n",
       "      <td>₹6,708</td>\n",
       "      <td>SAMSUNG</td>\n",
       "      <td>0</td>\n",
       "      <td>4 GB RAM</td>\n",
       "      <td>64 GB</td>\n",
       "    </tr>\n",
       "    <tr>\n",
       "      <th>273</th>\n",
       "      <td>IQOO Z7s 5G (Norway Blue, 128 GB)</td>\n",
       "      <td>6 GB RAM | 128 GB ROM</td>\n",
       "      <td>64MP Rear Camera</td>\n",
       "      <td>4500 mAh Battery</td>\n",
       "      <td>Domestic 1 Year on Handset and 6 Months on Acc...</td>\n",
       "      <td>4.3</td>\n",
       "      <td>2,443 Ratings &amp; 147 Reviews</td>\n",
       "      <td>₹15,650</td>\n",
       "      <td>IQOO</td>\n",
       "      <td>1</td>\n",
       "      <td>6 GB RAM</td>\n",
       "      <td>128 GB</td>\n",
       "    </tr>\n",
       "    <tr>\n",
       "      <th>553</th>\n",
       "      <td>Nokia 5310 DS Keypad Mobile, FM Radio,Camera w...</td>\n",
       "      <td>8 MB RAM | 16 MB ROM | Expandable Upto 32 GB</td>\n",
       "      <td>0.3MP Rear Camera</td>\n",
       "      <td>1200 mAh Lithium-ion Battery</td>\n",
       "      <td>MT6260A Processor</td>\n",
       "      <td>4.1</td>\n",
       "      <td>9,077 Ratings &amp; 645 Reviews</td>\n",
       "      <td>₹3,409</td>\n",
       "      <td>Nokia</td>\n",
       "      <td>0</td>\n",
       "      <td>8 MB RAM</td>\n",
       "      <td>None</td>\n",
       "    </tr>\n",
       "  </tbody>\n",
       "</table>\n",
       "</div>"
      ],
      "text/plain": [
       "                                                 Brand  \\\n",
       "282              SAMSUNG Galaxy M04 (Dark Blue, 64 GB)   \n",
       "273                  IQOO Z7s 5G (Norway Blue, 128 GB)   \n",
       "553  Nokia 5310 DS Keypad Mobile, FM Radio,Camera w...   \n",
       "\n",
       "                                           Memory  \\\n",
       "282   4 GB RAM | 64 GB ROM | Expandable Upto 1 TB   \n",
       "273                         6 GB RAM | 128 GB ROM   \n",
       "553  8 MB RAM | 16 MB ROM | Expandable Upto 32 GB   \n",
       "\n",
       "                                        Camera                       Battery  \\\n",
       "282  13MP + 13MP | 5MP + 5MP Dual Front Camera              5000 mAh Battery   \n",
       "273                           64MP Rear Camera              4500 mAh Battery   \n",
       "553                          0.3MP Rear Camera  1200 mAh Lithium-ion Battery   \n",
       "\n",
       "                                             Processor  Ratings  \\\n",
       "282             MediaTek Helio P35 octa core Processor      4.1   \n",
       "273  Domestic 1 Year on Handset and 6 Months on Acc...      4.3   \n",
       "553                                  MT6260A Processor      4.1   \n",
       "\n",
       "                         Reviews    Price Brand_name  5G        RAM     ROM  \n",
       "282  9,830 Ratings & 563 Reviews   ₹6,708    SAMSUNG   0  4 GB RAM    64 GB  \n",
       "273  2,443 Ratings & 147 Reviews  ₹15,650       IQOO   1  6 GB RAM   128 GB  \n",
       "553  9,077 Ratings & 645 Reviews   ₹3,409      Nokia   0  8 MB RAM     None  "
      ]
     },
     "execution_count": 19,
     "metadata": {},
     "output_type": "execute_result"
    }
   ],
   "source": [
    "df.sample(3)"
   ]
  },
  {
   "cell_type": "code",
   "execution_count": 20,
   "id": "fea799ae",
   "metadata": {
    "id": "fea799ae"
   },
   "outputs": [],
   "source": [
    "# separate columns for the back_camera and the front camera\n",
    "df[\"Main_camera\"] = df[\"Camera\"].apply(lambda x: x.split(\"|\")[0] if \"|\" in x else x)\n",
    "df[\"Front_camera\"] = df[\"Camera\"].apply(lambda x: x.split(\"|\")[1] if \"|\" in x else 0)"
   ]
  },
  {
   "cell_type": "code",
   "execution_count": 21,
   "id": "0a7f16d9",
   "metadata": {
    "id": "0a7f16d9"
   },
   "outputs": [],
   "source": [
    "# separate columns for the processor_name, rating and reviews\n",
    "df[\"Processor_name\"] = df[\"Processor\"].str.split().str[0]\n",
    "df[\"Ratings_count\"] = df[\"Reviews\"].str.split(\"&\").str[0]\n",
    "df[\"Reviews_count\"] = df[\"Reviews\"].str.split(\"&\").str[1]"
   ]
  },
  {
   "cell_type": "code",
   "execution_count": 22,
   "id": "d24dda37",
   "metadata": {
    "colab": {
     "base_uri": "https://localhost:8080/",
     "height": 441
    },
    "id": "d24dda37",
    "outputId": "97c6a8a3-c9e5-474b-fc51-64a4ab48f793"
   },
   "outputs": [
    {
     "data": {
      "text/html": [
       "<div>\n",
       "<style scoped>\n",
       "    .dataframe tbody tr th:only-of-type {\n",
       "        vertical-align: middle;\n",
       "    }\n",
       "\n",
       "    .dataframe tbody tr th {\n",
       "        vertical-align: top;\n",
       "    }\n",
       "\n",
       "    .dataframe thead th {\n",
       "        text-align: right;\n",
       "    }\n",
       "</style>\n",
       "<table border=\"1\" class=\"dataframe\">\n",
       "  <thead>\n",
       "    <tr style=\"text-align: right;\">\n",
       "      <th></th>\n",
       "      <th>Brand</th>\n",
       "      <th>Memory</th>\n",
       "      <th>Camera</th>\n",
       "      <th>Battery</th>\n",
       "      <th>Processor</th>\n",
       "      <th>Ratings</th>\n",
       "      <th>Reviews</th>\n",
       "      <th>Price</th>\n",
       "      <th>Brand_name</th>\n",
       "      <th>5G</th>\n",
       "      <th>RAM</th>\n",
       "      <th>ROM</th>\n",
       "      <th>Main_camera</th>\n",
       "      <th>Front_camera</th>\n",
       "      <th>Processor_name</th>\n",
       "      <th>Ratings_count</th>\n",
       "      <th>Reviews_count</th>\n",
       "    </tr>\n",
       "  </thead>\n",
       "  <tbody>\n",
       "    <tr>\n",
       "      <th>208</th>\n",
       "      <td>Motorola Edge 40 Neo (Peach Fuzz, 256 GB)</td>\n",
       "      <td>12 GB RAM | 256 GB ROM</td>\n",
       "      <td>50MP + 13MP | 32MP Front Camera</td>\n",
       "      <td>5000 mAh Battery</td>\n",
       "      <td>Dimensity 7030 Processor</td>\n",
       "      <td>4.3</td>\n",
       "      <td>36,416 Ratings &amp; 4,886 Reviews</td>\n",
       "      <td>₹24,999</td>\n",
       "      <td>Motorola</td>\n",
       "      <td>0</td>\n",
       "      <td>12 GB RAM</td>\n",
       "      <td>256 GB</td>\n",
       "      <td>50MP + 13MP</td>\n",
       "      <td>32MP Front Camera</td>\n",
       "      <td>Dimensity</td>\n",
       "      <td>36,416 Ratings</td>\n",
       "      <td>4,886 Reviews</td>\n",
       "    </tr>\n",
       "    <tr>\n",
       "      <th>850</th>\n",
       "      <td>OnePlus N20 SE (BLUE OASIS, 64 GB)</td>\n",
       "      <td>4 GB RAM | 64 GB ROM</td>\n",
       "      <td>50MP Rear Camera</td>\n",
       "      <td>5000 mAh Battery</td>\n",
       "      <td>No Warranty.</td>\n",
       "      <td>4.2</td>\n",
       "      <td>234 Ratings &amp; 11 Reviews</td>\n",
       "      <td>₹13,769</td>\n",
       "      <td>OnePlus</td>\n",
       "      <td>0</td>\n",
       "      <td>4 GB RAM</td>\n",
       "      <td>64 GB</td>\n",
       "      <td>50MP Rear Camera</td>\n",
       "      <td>0</td>\n",
       "      <td>No</td>\n",
       "      <td>234 Ratings</td>\n",
       "      <td>11 Reviews</td>\n",
       "    </tr>\n",
       "    <tr>\n",
       "      <th>274</th>\n",
       "      <td>POCO C51 - Locked with Airtel Prepaid (Power B...</td>\n",
       "      <td>4 GB RAM | 64 GB ROM | Expandable Upto 1 TB</td>\n",
       "      <td>8MP Dual Rear Camera | 5MP Front Camera</td>\n",
       "      <td>5000 mAh Battery</td>\n",
       "      <td>Helio G36 Processor</td>\n",
       "      <td>4.0</td>\n",
       "      <td>1,78,997 Ratings &amp; 9,966 Reviews</td>\n",
       "      <td>₹4,999</td>\n",
       "      <td>POCO</td>\n",
       "      <td>0</td>\n",
       "      <td>4 GB RAM</td>\n",
       "      <td>64 GB</td>\n",
       "      <td>8MP Dual Rear Camera</td>\n",
       "      <td>5MP Front Camera</td>\n",
       "      <td>Helio</td>\n",
       "      <td>1,78,997 Ratings</td>\n",
       "      <td>9,966 Reviews</td>\n",
       "    </tr>\n",
       "  </tbody>\n",
       "</table>\n",
       "</div>"
      ],
      "text/plain": [
       "                                                 Brand  \\\n",
       "208          Motorola Edge 40 Neo (Peach Fuzz, 256 GB)   \n",
       "850                 OnePlus N20 SE (BLUE OASIS, 64 GB)   \n",
       "274  POCO C51 - Locked with Airtel Prepaid (Power B...   \n",
       "\n",
       "                                          Memory  \\\n",
       "208                       12 GB RAM | 256 GB ROM   \n",
       "850                         4 GB RAM | 64 GB ROM   \n",
       "274  4 GB RAM | 64 GB ROM | Expandable Upto 1 TB   \n",
       "\n",
       "                                      Camera           Battery  \\\n",
       "208          50MP + 13MP | 32MP Front Camera  5000 mAh Battery   \n",
       "850                         50MP Rear Camera  5000 mAh Battery   \n",
       "274  8MP Dual Rear Camera | 5MP Front Camera  5000 mAh Battery   \n",
       "\n",
       "                    Processor  Ratings                           Reviews  \\\n",
       "208  Dimensity 7030 Processor      4.3    36,416 Ratings & 4,886 Reviews   \n",
       "850              No Warranty.      4.2          234 Ratings & 11 Reviews   \n",
       "274       Helio G36 Processor      4.0  1,78,997 Ratings & 9,966 Reviews   \n",
       "\n",
       "       Price Brand_name  5G         RAM     ROM            Main_camera  \\\n",
       "208  ₹24,999   Motorola   0  12 GB RAM   256 GB           50MP + 13MP    \n",
       "850  ₹13,769    OnePlus   0   4 GB RAM    64 GB       50MP Rear Camera   \n",
       "274   ₹4,999       POCO   0   4 GB RAM    64 GB  8MP Dual Rear Camera    \n",
       "\n",
       "           Front_camera Processor_name      Ratings_count   Reviews_count  \n",
       "208   32MP Front Camera      Dimensity    36,416 Ratings    4,886 Reviews  \n",
       "850                   0             No       234 Ratings       11 Reviews  \n",
       "274    5MP Front Camera          Helio  1,78,997 Ratings    9,966 Reviews  "
      ]
     },
     "execution_count": 22,
     "metadata": {},
     "output_type": "execute_result"
    }
   ],
   "source": [
    "df.sample(3)"
   ]
  },
  {
   "cell_type": "code",
   "execution_count": 23,
   "id": "d8a21663",
   "metadata": {
    "id": "d8a21663"
   },
   "outputs": [],
   "source": [
    "# dropping the columns which are no longer needed\n",
    "df.drop(columns = [\"Brand\", \"Memory\", \"Camera\", \"Processor\"], inplace = True)"
   ]
  },
  {
   "cell_type": "code",
   "execution_count": 24,
   "id": "d581e14c",
   "metadata": {
    "id": "d581e14c"
   },
   "outputs": [],
   "source": [
    "# making average size of the iphone battery = 3000\n",
    "df[\"Battery_mAh\"] = df[\"Battery\"].apply(lambda x: x.split(\"mAh\")[0] if \"mAh\" in x else 3000)"
   ]
  },
  {
   "cell_type": "code",
   "execution_count": 25,
   "id": "a0b5423e",
   "metadata": {
    "id": "a0b5423e"
   },
   "outputs": [],
   "source": [
    "# dropping the columns which are no longer needed\n",
    "df.drop(columns=[\"Battery\", \"Reviews\"], inplace = True)"
   ]
  },
  {
   "cell_type": "code",
   "execution_count": 26,
   "id": "24882d16",
   "metadata": {
    "id": "24882d16"
   },
   "outputs": [],
   "source": [
    "# making the columns data to integers\n",
    "def make_integer(row):\n",
    "    row = str(row)\n",
    "    integers= []\n",
    "    for i in row:\n",
    "        if i.isdigit():\n",
    "            integers.append(i)\n",
    "    return \"\".join(integers)"
   ]
  },
  {
   "cell_type": "code",
   "execution_count": 27,
   "id": "86f4d2b4",
   "metadata": {
    "id": "86f4d2b4"
   },
   "outputs": [],
   "source": [
    "df[\"Price\"] = df[\"Price\"].apply(make_integer)\n",
    "df[\"Ratings_count\"] = df[\"Ratings_count\"].apply(make_integer)\n",
    "df[\"Reviews_count\"] = df[\"Reviews_count\"].apply(make_integer)\n",
    "df[\"Front_camera\"] = df[\"Front_camera\"].apply(make_integer)"
   ]
  },
  {
   "cell_type": "code",
   "execution_count": 28,
   "id": "7de17ce3",
   "metadata": {
    "id": "7de17ce3"
   },
   "outputs": [],
   "source": [
    "# making a function which will assign \"bionic\" to apple processor\n",
    "def apple_processor(name, processor):\n",
    "    name = str(name)\n",
    "    processor = str(processor)\n",
    "\n",
    "    if name == \"Apple\":\n",
    "        return \"Bionic\"\n",
    "    else:\n",
    "        return processor\n",
    "\n",
    "df[\"Processor_name\"] = df[[\"Brand_name\", \"Processor_name\"]].apply(lambda x : apple_processor(x[\"Brand_name\"], x[\"Processor_name\"]), axis=1)"
   ]
  },
  {
   "cell_type": "code",
   "execution_count": 29,
   "id": "9a9a82eb",
   "metadata": {
    "id": "9a9a82eb"
   },
   "outputs": [],
   "source": [
    "# categorize the processor into few categories\n",
    "def processor_name(row):\n",
    "    row = str(row)\n",
    "\n",
    "    if row == \"Bionic\":\n",
    "        return row\n",
    "    elif row == \"Qualcomm\" or row == \"Snapdragon\":\n",
    "        return \"Snapdragon\"\n",
    "    elif row == \"Mediatek\" or row == \"MediaTek\" or row == \"Helio\" or row == \"Dimensity\":\n",
    "        return \"Mediatek\"\n",
    "    else:\n",
    "        return \"Others\"\n",
    "\n",
    "df[\"Processor_name\"] = df[\"Processor_name\"].apply(processor_name)"
   ]
  },
  {
   "cell_type": "code",
   "execution_count": 30,
   "id": "707695df",
   "metadata": {
    "colab": {
     "base_uri": "https://localhost:8080/"
    },
    "id": "707695df",
    "outputId": "7486eb35-f352-41bd-bbaa-bde892dcf72c"
   },
   "outputs": [
    {
     "data": {
      "text/plain": [
       "Processor_name\n",
       "Others        279\n",
       "Mediatek      221\n",
       "Snapdragon    110\n",
       "Bionic         55\n",
       "Name: count, dtype: int64"
      ]
     },
     "execution_count": 30,
     "metadata": {},
     "output_type": "execute_result"
    }
   ],
   "source": [
    "df[\"Processor_name\"].value_counts()"
   ]
  },
  {
   "cell_type": "code",
   "execution_count": 31,
   "id": "db9fcfe8",
   "metadata": {
    "id": "db9fcfe8"
   },
   "outputs": [],
   "source": [
    "# adding all the megapixel of the back cameras\n",
    "def total_megapixels(camera):\n",
    "    camera = str(camera)\n",
    "    if \"MP\" in camera:\n",
    "        cameras = camera.split(\"+\")\n",
    "\n",
    "        total_mp = 0\n",
    "\n",
    "\n",
    "        for cam in cameras:\n",
    "\n",
    "            mp_str = ''.join(filter(str.isdigit, cam))\n",
    "            mp = int(mp_str) if mp_str else 0\n",
    "            total_mp += mp\n",
    "\n",
    "        return total_mp\n",
    "    else:\n",
    "        return 0\n",
    "df[\"Back_camera_sum\"] = df[\"Main_camera\"].apply(total_megapixels)"
   ]
  },
  {
   "cell_type": "code",
   "execution_count": 32,
   "id": "c21c2248",
   "metadata": {
    "id": "c21c2248"
   },
   "outputs": [],
   "source": [
    "def rom(row):\n",
    "    row = str(row)\n",
    "\n",
    "    if \"TB\" in row:\n",
    "        return \"1000\"\n",
    "    else:\n",
    "        return row.split()[0]\n",
    "\n",
    "df[\"ROM\"] = df[\"ROM\"].apply(rom)"
   ]
  },
  {
   "cell_type": "code",
   "execution_count": 33,
   "id": "4d2af3c7",
   "metadata": {
    "id": "4d2af3c7"
   },
   "outputs": [],
   "source": [
    "df = df.drop(df[df[\"ROM\"] == \"nan\"].index)"
   ]
  },
  {
   "cell_type": "code",
   "execution_count": 34,
   "id": "f2867e7e",
   "metadata": {
    "colab": {
     "base_uri": "https://localhost:8080/"
    },
    "id": "f2867e7e",
    "outputId": "0078a83e-4fb4-4c90-80ae-5113fb7fc010"
   },
   "outputs": [
    {
     "data": {
      "text/plain": [
       "RAM\n",
       "8 GB RAM      231\n",
       "4 GB RAM      147\n",
       "6 GB RAM      116\n",
       "12 GB RAM      64\n",
       "4GB            55\n",
       "3 GB RAM       23\n",
       "2 GB RAM       17\n",
       "16 GB RAM       7\n",
       "8 MB RAM        1\n",
       "3 MB RAM        1\n",
       "32 MB RAM       1\n",
       "4 MB RAM        1\n",
       "64 GB RAM       1\n",
       "Name: count, dtype: int64"
      ]
     },
     "execution_count": 34,
     "metadata": {},
     "output_type": "execute_result"
    }
   ],
   "source": [
    "df[\"RAM\"].value_counts()"
   ]
  },
  {
   "cell_type": "code",
   "execution_count": 35,
   "id": "9191682b",
   "metadata": {
    "id": "9191682b"
   },
   "outputs": [],
   "source": [
    "# removing the GB term from the RAM\n",
    "def ram(row):\n",
    "    row = str(row)\n",
    "\n",
    "    if \"GB\" in row:\n",
    "        return row.split(\"GB\")[0]\n",
    "    else:\n",
    "        return 0\n",
    "df[\"RAM\"] = df[\"RAM\"].apply(ram)"
   ]
  },
  {
   "cell_type": "code",
   "execution_count": 36,
   "id": "d1c8bcda",
   "metadata": {
    "id": "d1c8bcda"
   },
   "outputs": [],
   "source": [
    "# removing the outliers\n",
    "df = df.drop(df[df[\"RAM\"] == \"64 \"].index)"
   ]
  },
  {
   "cell_type": "code",
   "execution_count": 37,
   "id": "fc600367",
   "metadata": {
    "id": "fc600367"
   },
   "outputs": [],
   "source": [
    "df.drop(columns = [\"Main_camera\"], inplace = True)"
   ]
  },
  {
   "cell_type": "code",
   "execution_count": 38,
   "id": "4a8a62aa",
   "metadata": {
    "colab": {
     "base_uri": "https://localhost:8080/"
    },
    "id": "4a8a62aa",
    "outputId": "6fa93af5-f28b-417a-d1a6-732619dc5ee6"
   },
   "outputs": [
    {
     "data": {
      "text/plain": [
       "ROM\n",
       "128     347\n",
       "256     148\n",
       "64      115\n",
       "512      22\n",
       "32       22\n",
       "1000      5\n",
       "16        2\n",
       "Name: count, dtype: int64"
      ]
     },
     "execution_count": 38,
     "metadata": {},
     "output_type": "execute_result"
    }
   ],
   "source": [
    "df = df.drop(df[df[\"ROM\"] == \"None\"].index)\n",
    "df[\"ROM\"].value_counts()"
   ]
  },
  {
   "cell_type": "code",
   "execution_count": 39,
   "id": "17603548",
   "metadata": {
    "colab": {
     "base_uri": "https://localhost:8080/"
    },
    "id": "17603548",
    "outputId": "c0740ded-53af-4274-c58b-010faf44c97f"
   },
   "outputs": [
    {
     "name": "stdout",
     "output_type": "stream",
     "text": [
      "<class 'pandas.core.frame.DataFrame'>\n",
      "Index: 661 entries, 0 to 983\n",
      "Data columns (total 12 columns):\n",
      " #   Column           Non-Null Count  Dtype  \n",
      "---  ------           --------------  -----  \n",
      " 0   Ratings          661 non-null    float64\n",
      " 1   Price            661 non-null    object \n",
      " 2   Brand_name       661 non-null    object \n",
      " 3   5G               661 non-null    int64  \n",
      " 4   RAM              661 non-null    object \n",
      " 5   ROM              661 non-null    object \n",
      " 6   Front_camera     661 non-null    object \n",
      " 7   Processor_name   661 non-null    object \n",
      " 8   Ratings_count    661 non-null    object \n",
      " 9   Reviews_count    661 non-null    object \n",
      " 10  Battery_mAh      661 non-null    object \n",
      " 11  Back_camera_sum  661 non-null    int64  \n",
      "dtypes: float64(1), int64(2), object(9)\n",
      "memory usage: 67.1+ KB\n"
     ]
    }
   ],
   "source": [
    "df.info()"
   ]
  },
  {
   "cell_type": "code",
   "execution_count": 40,
   "id": "f766d3ff",
   "metadata": {
    "colab": {
     "base_uri": "https://localhost:8080/",
     "height": 206
    },
    "id": "f766d3ff",
    "outputId": "451ec4d5-5311-4d0d-a453-2c2548cd18d2"
   },
   "outputs": [
    {
     "data": {
      "text/html": [
       "<div>\n",
       "<style scoped>\n",
       "    .dataframe tbody tr th:only-of-type {\n",
       "        vertical-align: middle;\n",
       "    }\n",
       "\n",
       "    .dataframe tbody tr th {\n",
       "        vertical-align: top;\n",
       "    }\n",
       "\n",
       "    .dataframe thead th {\n",
       "        text-align: right;\n",
       "    }\n",
       "</style>\n",
       "<table border=\"1\" class=\"dataframe\">\n",
       "  <thead>\n",
       "    <tr style=\"text-align: right;\">\n",
       "      <th></th>\n",
       "      <th>Ratings</th>\n",
       "      <th>Price</th>\n",
       "      <th>Brand_name</th>\n",
       "      <th>5G</th>\n",
       "      <th>RAM</th>\n",
       "      <th>ROM</th>\n",
       "      <th>Front_camera</th>\n",
       "      <th>Processor_name</th>\n",
       "      <th>Ratings_count</th>\n",
       "      <th>Reviews_count</th>\n",
       "      <th>Battery_mAh</th>\n",
       "      <th>Back_camera_sum</th>\n",
       "    </tr>\n",
       "  </thead>\n",
       "  <tbody>\n",
       "    <tr>\n",
       "      <th>623</th>\n",
       "      <td>4.3</td>\n",
       "      <td>17999</td>\n",
       "      <td>OPPO</td>\n",
       "      <td>1</td>\n",
       "      <td>8</td>\n",
       "      <td>128</td>\n",
       "      <td>8</td>\n",
       "      <td>Others</td>\n",
       "      <td>6696</td>\n",
       "      <td>435</td>\n",
       "      <td>5000</td>\n",
       "      <td>52</td>\n",
       "    </tr>\n",
       "    <tr>\n",
       "      <th>55</th>\n",
       "      <td>4.5</td>\n",
       "      <td>23999</td>\n",
       "      <td>vivo</td>\n",
       "      <td>1</td>\n",
       "      <td>8</td>\n",
       "      <td>128</td>\n",
       "      <td>16</td>\n",
       "      <td>Mediatek</td>\n",
       "      <td>68698</td>\n",
       "      <td>6048</td>\n",
       "      <td>4600</td>\n",
       "      <td>66</td>\n",
       "    </tr>\n",
       "    <tr>\n",
       "      <th>708</th>\n",
       "      <td>4.3</td>\n",
       "      <td>8999</td>\n",
       "      <td>Infinix</td>\n",
       "      <td>0</td>\n",
       "      <td>4</td>\n",
       "      <td>64</td>\n",
       "      <td>8</td>\n",
       "      <td>Others</td>\n",
       "      <td>120882</td>\n",
       "      <td>8533</td>\n",
       "      <td>6000</td>\n",
       "      <td>13</td>\n",
       "    </tr>\n",
       "    <tr>\n",
       "      <th>484</th>\n",
       "      <td>4.4</td>\n",
       "      <td>36990</td>\n",
       "      <td>OnePlus</td>\n",
       "      <td>1</td>\n",
       "      <td>16</td>\n",
       "      <td>256</td>\n",
       "      <td>0</td>\n",
       "      <td>Others</td>\n",
       "      <td>1297</td>\n",
       "      <td>113</td>\n",
       "      <td>5000</td>\n",
       "      <td>50</td>\n",
       "    </tr>\n",
       "    <tr>\n",
       "      <th>610</th>\n",
       "      <td>3.9</td>\n",
       "      <td>64999</td>\n",
       "      <td>SAMSUNG</td>\n",
       "      <td>1</td>\n",
       "      <td>8</td>\n",
       "      <td>256</td>\n",
       "      <td>10</td>\n",
       "      <td>Snapdragon</td>\n",
       "      <td>262</td>\n",
       "      <td>19</td>\n",
       "      <td>3700</td>\n",
       "      <td>24</td>\n",
       "    </tr>\n",
       "  </tbody>\n",
       "</table>\n",
       "</div>"
      ],
      "text/plain": [
       "     Ratings  Price Brand_name  5G  RAM  ROM Front_camera Processor_name  \\\n",
       "623      4.3  17999       OPPO   1   8   128            8         Others   \n",
       "55       4.5  23999       vivo   1   8   128           16       Mediatek   \n",
       "708      4.3   8999    Infinix   0   4    64            8         Others   \n",
       "484      4.4  36990    OnePlus   1  16   256            0         Others   \n",
       "610      3.9  64999    SAMSUNG   1   8   256           10     Snapdragon   \n",
       "\n",
       "    Ratings_count Reviews_count Battery_mAh  Back_camera_sum  \n",
       "623          6696           435       5000                52  \n",
       "55          68698          6048       4600                66  \n",
       "708        120882          8533       6000                13  \n",
       "484          1297           113       5000                50  \n",
       "610           262            19       3700                24  "
      ]
     },
     "execution_count": 40,
     "metadata": {},
     "output_type": "execute_result"
    }
   ],
   "source": [
    "df.sample(5)"
   ]
  },
  {
   "cell_type": "code",
   "execution_count": 41,
   "id": "0bab03ba",
   "metadata": {
    "id": "0bab03ba"
   },
   "outputs": [],
   "source": [
    "def brand_collection(row):\n",
    "    row = str(row)\n",
    "\n",
    "    if \"REDMI\" in row or \"vivo\" in row or \"realme\" in row or \"POCO\" in row or \"Motorola\" in row or \"Infinix\" in row or \"OPPO\" in row or \"Apple\" in row or \"Google\" in row or \"OnePlus\" in row:\n",
    "        return row\n",
    "    elif \"SAMSUNG\" in row or \"Samsung\" in row:\n",
    "        return \"Samsung\"\n",
    "    else:\n",
    "        return \"Others\"\n",
    "\n",
    "df[\"Brand_name\"] = df[\"Brand_name\"].apply(brand_collection)"
   ]
  },
  {
   "cell_type": "code",
   "execution_count": 42,
   "id": "Mfu38aCHlVbn",
   "metadata": {
    "colab": {
     "base_uri": "https://localhost:8080/"
    },
    "id": "Mfu38aCHlVbn",
    "outputId": "24797cde-937c-472f-90ed-7efba647c371"
   },
   "outputs": [
    {
     "name": "stdout",
     "output_type": "stream",
     "text": [
      "<class 'pandas.core.frame.DataFrame'>\n",
      "Index: 661 entries, 0 to 983\n",
      "Data columns (total 12 columns):\n",
      " #   Column           Non-Null Count  Dtype  \n",
      "---  ------           --------------  -----  \n",
      " 0   Ratings          661 non-null    float64\n",
      " 1   Price            661 non-null    object \n",
      " 2   Brand_name       661 non-null    object \n",
      " 3   5G               661 non-null    int64  \n",
      " 4   RAM              661 non-null    object \n",
      " 5   ROM              661 non-null    object \n",
      " 6   Front_camera     661 non-null    object \n",
      " 7   Processor_name   661 non-null    object \n",
      " 8   Ratings_count    661 non-null    object \n",
      " 9   Reviews_count    661 non-null    object \n",
      " 10  Battery_mAh      661 non-null    object \n",
      " 11  Back_camera_sum  661 non-null    int64  \n",
      "dtypes: float64(1), int64(2), object(9)\n",
      "memory usage: 67.1+ KB\n"
     ]
    }
   ],
   "source": [
    "df.info()"
   ]
  },
  {
   "cell_type": "code",
   "execution_count": 43,
   "id": "AfuOTOQyk6jF",
   "metadata": {
    "id": "AfuOTOQyk6jF"
   },
   "outputs": [],
   "source": [
    "# make price as integer\n",
    "df['Price'] = df['Price'].astype(\"int\")\n",
    "df[\"Ratings\"] = df[\"Ratings\"].astype(\"object\")\n",
    "df['5G'] = df[\"5G\"].astype(\"object\")\n",
    "df[\"Ratings_count\"] = df[\"Ratings_count\"].astype(\"int\")\n",
    "df[\"Reviews_count\"] = df[\"Reviews_count\"].astype('int')\n"
   ]
  },
  {
   "cell_type": "code",
   "execution_count": 44,
   "id": "ZE2xOmB3mfAz",
   "metadata": {
    "colab": {
     "base_uri": "https://localhost:8080/"
    },
    "id": "ZE2xOmB3mfAz",
    "outputId": "e64db426-884a-466a-b917-0d689f034695"
   },
   "outputs": [
    {
     "data": {
      "text/plain": [
       "Index(['Ratings', 'Price', 'Brand_name', '5G', 'RAM', 'ROM', 'Front_camera',\n",
       "       'Processor_name', 'Ratings_count', 'Reviews_count', 'Battery_mAh',\n",
       "       'Back_camera_sum'],\n",
       "      dtype='object')"
      ]
     },
     "execution_count": 44,
     "metadata": {},
     "output_type": "execute_result"
    }
   ],
   "source": [
    "df.columns"
   ]
  },
  {
   "cell_type": "code",
   "execution_count": 45,
   "id": "muxvCx1mkb3Z",
   "metadata": {
    "colab": {
     "base_uri": "https://localhost:8080/"
    },
    "id": "muxvCx1mkb3Z",
    "outputId": "bec7b542-6250-469e-dbbb-f956e3a1a6cd"
   },
   "outputs": [
    {
     "name": "stdout",
     "output_type": "stream",
     "text": [
      "Column name: Ratings\n",
      "Unique counts: 16\n",
      "Unique values: [4.2, 4.3, 4.6, 4.4, 4.0, 4.5, 4.1, 4.7, 3.7, 4.9, 5.0, 3.8, 3.9, 3.5, 3.1, 3.2]\n",
      "\n",
      "\n",
      "Column name: Brand_name\n",
      "Unique counts: 12\n",
      "Unique values: ['Infinix', 'REDMI', 'Apple', 'Motorola', 'vivo', 'POCO', 'Samsung', 'OnePlus', 'realme', 'Others', 'OPPO', 'Google']\n",
      "\n",
      "\n",
      "Column name: 5G\n",
      "Unique counts: 2\n",
      "Unique values: [1, 0]\n",
      "\n",
      "\n",
      "Column name: RAM\n",
      "Unique counts: 9\n",
      "Unique values: ['8 ', '6 ', '4', '4 ', '12 ', '2 ', '3 ', '16 ', 0]\n",
      "\n",
      "\n",
      "Column name: ROM\n",
      "Unique counts: 7\n",
      "Unique values: ['256', '128', '64', '512', '32', '1000', '16']\n",
      "\n",
      "\n",
      "Column name: Front_camera\n",
      "Unique counts: 17\n",
      "Unique values: ['16', '8', '12', '50', '5', '0', '32', '13', '10', '55', '207', '108', '105', '20', '2', '88', '1616']\n",
      "\n",
      "\n",
      "Column name: Processor_name\n",
      "Unique counts: 4\n",
      "Unique values: ['Mediatek', 'Snapdragon', 'Bionic', 'Others']\n",
      "\n",
      "\n",
      "Column name: Battery_mAh\n",
      "Unique counts: 26\n",
      "Unique values: ['5000 ', 3000, '4500 ', '6000 ', '4600 ', '5100 ', '4700 ', '4400 ', '3700 ', '4000 ', '4270 ', '4575 ', '3900 ', '5400 ', '4800 ', '4926 ', '5050 ', '3300 ', '7000 ', '4980 ', '5160 ', '3000 ', '4900 ', '2500 ', '5080 ', '4810 ']\n",
      "\n",
      "\n",
      "Column name: Back_camera_sum\n",
      "Unique counts: 55\n",
      "Unique values: [110, 52, 60, 66, 123, 50, 58, 8, 63, 57, 24, 108, 74, 122, 13, 210, 54, 100, 64, 32, 72, 56, 26, 16, 15, 118, 61, 200, 90, 272, 62, 164, 232, 104, 21, 150, 70, 10, 146, 81, 67, 48, 102, 76, 17, 86, 68, 55, 36, 5028, 18, 59, 12, 65, 14]\n",
      "\n",
      "\n"
     ]
    }
   ],
   "source": [
    "col = ['Ratings', 'Brand_name', '5G', 'RAM', 'ROM', 'Front_camera',\n",
    "       'Processor_name', 'Battery_mAh', 'Back_camera_sum']\n",
    "\n",
    "for i in col:\n",
    "    print(\"Column name:\", i)\n",
    "    print(\"Unique counts:\", df[i].nunique())\n",
    "    print(\"Unique values:\", list(df[i].unique()))\n",
    "    print(\"\\n\")"
   ]
  },
  {
   "cell_type": "markdown",
   "id": "e80ebb09",
   "metadata": {
    "id": "e80ebb09"
   },
   "source": [
    "### Steps performed in Data Cleaning:\n",
    "- Removed the null values\n",
    "- Removed the Duplicate rows\n",
    "- Created separate columns for RAM and ROM\n",
    "- Created separate columns for Rear Camera and Back Camera\n",
    "- Created separate columns for Reviews and Ratings\n",
    "- Converted the data types to integers of the relevant columns\n",
    "- Categorize all the processor into 4 groups (Mediatek, Snapdragon, Bionic and others)\n",
    "- Added all the megapixels of the back camera\n",
    "- Removed all the non-relevant columns"
   ]
  },
  {
   "cell_type": "markdown",
   "id": "tXdwFoL1gVBE",
   "metadata": {
    "id": "tXdwFoL1gVBE"
   },
   "source": [
    "# Step 3:  Performing Exploratory Data Analysis (EDA)"
   ]
  },
  {
   "cell_type": "code",
   "execution_count": 48,
   "id": "kyw642N0nIlV",
   "metadata": {
    "colab": {
     "base_uri": "https://localhost:8080/",
     "height": 300
    },
    "id": "kyw642N0nIlV",
    "outputId": "f5b2b80b-8dae-445e-eca3-d3acccd1c9c5"
   },
   "outputs": [
    {
     "data": {
      "text/html": [
       "<div>\n",
       "<style scoped>\n",
       "    .dataframe tbody tr th:only-of-type {\n",
       "        vertical-align: middle;\n",
       "    }\n",
       "\n",
       "    .dataframe tbody tr th {\n",
       "        vertical-align: top;\n",
       "    }\n",
       "\n",
       "    .dataframe thead th {\n",
       "        text-align: right;\n",
       "    }\n",
       "</style>\n",
       "<table border=\"1\" class=\"dataframe\">\n",
       "  <thead>\n",
       "    <tr style=\"text-align: right;\">\n",
       "      <th></th>\n",
       "      <th>Price</th>\n",
       "      <th>Ratings_count</th>\n",
       "      <th>Reviews_count</th>\n",
       "      <th>Back_camera_sum</th>\n",
       "    </tr>\n",
       "  </thead>\n",
       "  <tbody>\n",
       "    <tr>\n",
       "      <th>count</th>\n",
       "      <td>661.000000</td>\n",
       "      <td>6.610000e+02</td>\n",
       "      <td>661.000000</td>\n",
       "      <td>661.000000</td>\n",
       "    </tr>\n",
       "    <tr>\n",
       "      <th>mean</th>\n",
       "      <td>26993.972769</td>\n",
       "      <td>3.494355e+04</td>\n",
       "      <td>2474.366112</td>\n",
       "      <td>69.054463</td>\n",
       "    </tr>\n",
       "    <tr>\n",
       "      <th>std</th>\n",
       "      <td>29309.320067</td>\n",
       "      <td>7.858881e+04</td>\n",
       "      <td>6228.512029</td>\n",
       "      <td>198.075460</td>\n",
       "    </tr>\n",
       "    <tr>\n",
       "      <th>min</th>\n",
       "      <td>4999.000000</td>\n",
       "      <td>1.000000e+01</td>\n",
       "      <td>1.000000</td>\n",
       "      <td>8.000000</td>\n",
       "    </tr>\n",
       "    <tr>\n",
       "      <th>25%</th>\n",
       "      <td>10074.000000</td>\n",
       "      <td>7.990000e+02</td>\n",
       "      <td>60.000000</td>\n",
       "      <td>50.000000</td>\n",
       "    </tr>\n",
       "    <tr>\n",
       "      <th>50%</th>\n",
       "      <td>15798.000000</td>\n",
       "      <td>4.475000e+03</td>\n",
       "      <td>367.000000</td>\n",
       "      <td>52.000000</td>\n",
       "    </tr>\n",
       "    <tr>\n",
       "      <th>75%</th>\n",
       "      <td>29999.000000</td>\n",
       "      <td>2.850300e+04</td>\n",
       "      <td>2423.000000</td>\n",
       "      <td>66.000000</td>\n",
       "    </tr>\n",
       "    <tr>\n",
       "      <th>max</th>\n",
       "      <td>179900.000000</td>\n",
       "      <td>1.171746e+06</td>\n",
       "      <td>121980.000000</td>\n",
       "      <td>5028.000000</td>\n",
       "    </tr>\n",
       "  </tbody>\n",
       "</table>\n",
       "</div>"
      ],
      "text/plain": [
       "               Price  Ratings_count  Reviews_count  Back_camera_sum\n",
       "count     661.000000   6.610000e+02     661.000000       661.000000\n",
       "mean    26993.972769   3.494355e+04    2474.366112        69.054463\n",
       "std     29309.320067   7.858881e+04    6228.512029       198.075460\n",
       "min      4999.000000   1.000000e+01       1.000000         8.000000\n",
       "25%     10074.000000   7.990000e+02      60.000000        50.000000\n",
       "50%     15798.000000   4.475000e+03     367.000000        52.000000\n",
       "75%     29999.000000   2.850300e+04    2423.000000        66.000000\n",
       "max    179900.000000   1.171746e+06  121980.000000      5028.000000"
      ]
     },
     "execution_count": 48,
     "metadata": {},
     "output_type": "execute_result"
    }
   ],
   "source": [
    "df.describe()"
   ]
  },
  {
   "cell_type": "code",
   "execution_count": 49,
   "id": "l2PYF5AmgUXg",
   "metadata": {
    "colab": {
     "base_uri": "https://localhost:8080/",
     "height": 892
    },
    "id": "l2PYF5AmgUXg",
    "outputId": "a6ee6798-8587-4309-b1c5-c04910c234f3"
   },
   "outputs": [
    {
     "data": {
      "image/png": "[encoded data removed]",
      "text/plain": [
       "<Figure size 1500x1000 with 9 Axes>"
      ]
     },
     "metadata": {},
     "output_type": "display_data"
    }
   ],
   "source": [
    "# checking the distribution of each column\n",
    "col = ['Ratings', 'Brand_name', '5G', 'RAM', 'ROM', 'Front_camera',\n",
    "       'Processor_name', 'Battery_mAh']\n",
    "\n",
    "import matplotlib.pyplot as plt\n",
    "\n",
    "fig, axes = plt.subplots(3, 3, figsize=(15, 10))\n",
    "axes = axes.flatten()\n",
    "\n",
    "\n",
    "for i, col_name in enumerate(col):\n",
    "\n",
    "    df[col_name].value_counts().plot(kind=\"bar\", ax=axes[i])\n",
    "\n",
    "    axes[i].set_title(col_name)\n",
    "\n",
    "plt.tight_layout()\n",
    "plt.show()"
   ]
  },
  {
   "cell_type": "code",
   "execution_count": 50,
   "id": "gp2VJ-IPnaOL",
   "metadata": {
    "colab": {
     "base_uri": "https://localhost:8080/",
     "height": 1000
    },
    "id": "gp2VJ-IPnaOL",
    "outputId": "52e19d1b-d301-46f4-9f22-33919e1263fa"
   },
   "outputs": [
    {
     "data": {
      "image/png": "[encoded data removed]",
      "text/plain": [
       "<Figure size 2000x1500 with 9 Axes>"
      ]
     },
     "metadata": {},
     "output_type": "display_data"
    }
   ],
   "source": [
    "import matplotlib.pyplot as plt\n",
    "\n",
    "col = ['Ratings', 'Brand_name', '5G', 'RAM', 'ROM', 'Front_camera', 'Processor_name', 'Battery_mAh', 'Back_camera_sum']\n",
    "\n",
    "fig, axes = plt.subplots(3, 3, figsize=(20, 15))\n",
    "\n",
    "# Flatten the axes array for easy iteration\n",
    "axes = axes.flatten()\n",
    "\n",
    "# Loop through the columns and create bar plots\n",
    "for i, ax in enumerate(col):\n",
    "    # Group by the column, calculate the mean price, and plot as a bar chart\n",
    "    df.groupby(col[i])['Price'].mean().plot(kind='bar', ax=axes[i])\n",
    "\n",
    "    # Adding title and labels to the plot\n",
    "    axes[i].set_title(f'Mean Price by {col[i]}')\n",
    "    axes[i].set_ylabel('Mean Price')\n",
    "    axes[i].set_xlabel(col[i])\n",
    "\n",
    "# Adjust layout\n",
    "plt.tight_layout()\n",
    "plt.show()\n"
   ]
  },
  {
   "cell_type": "code",
   "execution_count": 51,
   "id": "S52MdEyAoeQI",
   "metadata": {
    "id": "S52MdEyAoeQI"
   },
   "outputs": [],
   "source": [
    "# dropping the outliers\n",
    "df = df.drop(df[df[\"Front_camera\"] == 1616].index)\n",
    "df = df.drop(df[df[\"Back_camera_sum\"] == 5028].index)"
   ]
  },
  {
   "cell_type": "code",
   "execution_count": 52,
   "id": "VHTed7AFpGbi",
   "metadata": {
    "id": "VHTed7AFpGbi"
   },
   "outputs": [],
   "source": [
    "#correcting the datatypes of each feature\n",
    "df['Price'] = df['Price'].astype(\"int\")\n",
    "df[\"Ratings\"] = df[\"Ratings\"].astype(\"int\")\n",
    "df['5G'] = df[\"5G\"].astype(\"int\")\n",
    "df[\"Ratings_count\"] = df[\"Ratings_count\"].astype(\"int\")\n",
    "df[\"Reviews_count\"] = df[\"Reviews_count\"].astype('int')\n",
    "df[\"Front_camera\"] = df[\"Front_camera\"].astype('int')\n",
    "df[\"Battery_mAh\"] = df[\"Battery_mAh\"].astype('int')\n",
    "df['RAM'] = df['RAM'].astype('int')\n",
    "df['ROM'] = df['ROM'].astype('int')"
   ]
  },
  {
   "cell_type": "code",
   "execution_count": 53,
   "id": "fKX7d7Tioh-P",
   "metadata": {
    "colab": {
     "base_uri": "https://localhost:8080/",
     "height": 927
    },
    "id": "fKX7d7Tioh-P",
    "outputId": "cfa58f12-3713-4f08-fc28-6f924d1cc2a8"
   },
   "outputs": [
    {
     "data": {
      "image/png": "[encoded data removed]",
      "text/plain": [
       "<Figure size 1500x900 with 9 Axes>"
      ]
     },
     "metadata": {},
     "output_type": "display_data"
    }
   ],
   "source": [
    "col = ['Ratings', 'Price', '5G', 'RAM', 'ROM', 'Front_camera', 'Ratings_count', 'Reviews_count', 'Battery_mAh']\n",
    "import seaborn as sns\n",
    "# Create a 3x3 grid of subplots\n",
    "fig, axes = plt.subplots(3, 3, figsize=(15, 9))\n",
    "axes = axes.flatten()\n",
    "\n",
    "# Loop through the columns and create KDE + histogram plots\n",
    "for i, col_name in enumerate(col):\n",
    "    sns.histplot(df[col_name], kde=True, ax=axes[i])\n",
    "    axes[i].set_xlabel(col_name)\n",
    "    axes[i].set_ylabel('Density')\n",
    "    axes[i].set_title(f'KDE Plot: {col_name}')\n",
    "\n",
    "# Adjust layout\n",
    "plt.tight_layout()\n",
    "plt.show()"
   ]
  },
  {
   "cell_type": "code",
   "execution_count": 54,
   "id": "xQTt3RcvqjF0",
   "metadata": {
    "id": "xQTt3RcvqjF0"
   },
   "outputs": [],
   "source": [
    "correlation = df[['Ratings', 'Price', '5G', 'RAM', 'ROM', 'Front_camera','Ratings_count', 'Reviews_count', 'Battery_mAh',\n",
    "       'Back_camera_sum']].corr()"
   ]
  },
  {
   "cell_type": "code",
   "execution_count": 55,
   "id": "wnzWFOeFqkei",
   "metadata": {
    "colab": {
     "base_uri": "https://localhost:8080/",
     "height": 363
    },
    "id": "wnzWFOeFqkei",
    "outputId": "e48673b8-b40b-48f4-dfe1-b19d44d02fd3"
   },
   "outputs": [
    {
     "data": {
      "text/html": [
       "<div>\n",
       "<style scoped>\n",
       "    .dataframe tbody tr th:only-of-type {\n",
       "        vertical-align: middle;\n",
       "    }\n",
       "\n",
       "    .dataframe tbody tr th {\n",
       "        vertical-align: top;\n",
       "    }\n",
       "\n",
       "    .dataframe thead th {\n",
       "        text-align: right;\n",
       "    }\n",
       "</style>\n",
       "<table border=\"1\" class=\"dataframe\">\n",
       "  <thead>\n",
       "    <tr style=\"text-align: right;\">\n",
       "      <th></th>\n",
       "      <th>Ratings</th>\n",
       "      <th>Price</th>\n",
       "      <th>5G</th>\n",
       "      <th>RAM</th>\n",
       "      <th>ROM</th>\n",
       "      <th>Front_camera</th>\n",
       "      <th>Ratings_count</th>\n",
       "      <th>Reviews_count</th>\n",
       "      <th>Battery_mAh</th>\n",
       "      <th>Back_camera_sum</th>\n",
       "    </tr>\n",
       "  </thead>\n",
       "  <tbody>\n",
       "    <tr>\n",
       "      <th>Ratings</th>\n",
       "      <td>1.000000</td>\n",
       "      <td>0.032627</td>\n",
       "      <td>0.083186</td>\n",
       "      <td>0.103887</td>\n",
       "      <td>0.072961</td>\n",
       "      <td>0.013968</td>\n",
       "      <td>0.050661</td>\n",
       "      <td>0.034114</td>\n",
       "      <td>0.123171</td>\n",
       "      <td>0.090394</td>\n",
       "    </tr>\n",
       "    <tr>\n",
       "      <th>Price</th>\n",
       "      <td>0.032627</td>\n",
       "      <td>1.000000</td>\n",
       "      <td>-0.025806</td>\n",
       "      <td>0.245539</td>\n",
       "      <td>0.600722</td>\n",
       "      <td>0.068934</td>\n",
       "      <td>0.006747</td>\n",
       "      <td>-0.029019</td>\n",
       "      <td>-0.584791</td>\n",
       "      <td>0.299195</td>\n",
       "    </tr>\n",
       "    <tr>\n",
       "      <th>5G</th>\n",
       "      <td>0.083186</td>\n",
       "      <td>-0.025806</td>\n",
       "      <td>1.000000</td>\n",
       "      <td>0.434330</td>\n",
       "      <td>0.211371</td>\n",
       "      <td>-0.030551</td>\n",
       "      <td>-0.137378</td>\n",
       "      <td>-0.091775</td>\n",
       "      <td>0.214916</td>\n",
       "      <td>0.376291</td>\n",
       "    </tr>\n",
       "    <tr>\n",
       "      <th>RAM</th>\n",
       "      <td>0.103887</td>\n",
       "      <td>0.245539</td>\n",
       "      <td>0.434330</td>\n",
       "      <td>1.000000</td>\n",
       "      <td>0.475338</td>\n",
       "      <td>0.151109</td>\n",
       "      <td>-0.200858</td>\n",
       "      <td>-0.139239</td>\n",
       "      <td>0.171498</td>\n",
       "      <td>0.558973</td>\n",
       "    </tr>\n",
       "    <tr>\n",
       "      <th>ROM</th>\n",
       "      <td>0.072961</td>\n",
       "      <td>0.600722</td>\n",
       "      <td>0.211371</td>\n",
       "      <td>0.475338</td>\n",
       "      <td>1.000000</td>\n",
       "      <td>0.060931</td>\n",
       "      <td>-0.089422</td>\n",
       "      <td>-0.093725</td>\n",
       "      <td>-0.212476</td>\n",
       "      <td>0.370706</td>\n",
       "    </tr>\n",
       "    <tr>\n",
       "      <th>Front_camera</th>\n",
       "      <td>0.013968</td>\n",
       "      <td>0.068934</td>\n",
       "      <td>-0.030551</td>\n",
       "      <td>0.151109</td>\n",
       "      <td>0.060931</td>\n",
       "      <td>1.000000</td>\n",
       "      <td>-0.019323</td>\n",
       "      <td>-0.007036</td>\n",
       "      <td>-0.010575</td>\n",
       "      <td>0.063610</td>\n",
       "    </tr>\n",
       "    <tr>\n",
       "      <th>Ratings_count</th>\n",
       "      <td>0.050661</td>\n",
       "      <td>0.006747</td>\n",
       "      <td>-0.137378</td>\n",
       "      <td>-0.200858</td>\n",
       "      <td>-0.089422</td>\n",
       "      <td>-0.019323</td>\n",
       "      <td>1.000000</td>\n",
       "      <td>0.937312</td>\n",
       "      <td>-0.228256</td>\n",
       "      <td>-0.151780</td>\n",
       "    </tr>\n",
       "    <tr>\n",
       "      <th>Reviews_count</th>\n",
       "      <td>0.034114</td>\n",
       "      <td>-0.029019</td>\n",
       "      <td>-0.091775</td>\n",
       "      <td>-0.139239</td>\n",
       "      <td>-0.093725</td>\n",
       "      <td>-0.007036</td>\n",
       "      <td>0.937312</td>\n",
       "      <td>1.000000</td>\n",
       "      <td>-0.139946</td>\n",
       "      <td>-0.105631</td>\n",
       "    </tr>\n",
       "    <tr>\n",
       "      <th>Battery_mAh</th>\n",
       "      <td>0.123171</td>\n",
       "      <td>-0.584791</td>\n",
       "      <td>0.214916</td>\n",
       "      <td>0.171498</td>\n",
       "      <td>-0.212476</td>\n",
       "      <td>-0.010575</td>\n",
       "      <td>-0.228256</td>\n",
       "      <td>-0.139946</td>\n",
       "      <td>1.000000</td>\n",
       "      <td>0.126825</td>\n",
       "    </tr>\n",
       "    <tr>\n",
       "      <th>Back_camera_sum</th>\n",
       "      <td>0.090394</td>\n",
       "      <td>0.299195</td>\n",
       "      <td>0.376291</td>\n",
       "      <td>0.558973</td>\n",
       "      <td>0.370706</td>\n",
       "      <td>0.063610</td>\n",
       "      <td>-0.151780</td>\n",
       "      <td>-0.105631</td>\n",
       "      <td>0.126825</td>\n",
       "      <td>1.000000</td>\n",
       "    </tr>\n",
       "  </tbody>\n",
       "</table>\n",
       "</div>"
      ],
      "text/plain": [
       "                  Ratings     Price        5G       RAM       ROM  \\\n",
       "Ratings          1.000000  0.032627  0.083186  0.103887  0.072961   \n",
       "Price            0.032627  1.000000 -0.025806  0.245539  0.600722   \n",
       "5G               0.083186 -0.025806  1.000000  0.434330  0.211371   \n",
       "RAM              0.103887  0.245539  0.434330  1.000000  0.475338   \n",
       "ROM              0.072961  0.600722  0.211371  0.475338  1.000000   \n",
       "Front_camera     0.013968  0.068934 -0.030551  0.151109  0.060931   \n",
       "Ratings_count    0.050661  0.006747 -0.137378 -0.200858 -0.089422   \n",
       "Reviews_count    0.034114 -0.029019 -0.091775 -0.139239 -0.093725   \n",
       "Battery_mAh      0.123171 -0.584791  0.214916  0.171498 -0.212476   \n",
       "Back_camera_sum  0.090394  0.299195  0.376291  0.558973  0.370706   \n",
       "\n",
       "                 Front_camera  Ratings_count  Reviews_count  Battery_mAh  \\\n",
       "Ratings              0.013968       0.050661       0.034114     0.123171   \n",
       "Price                0.068934       0.006747      -0.029019    -0.584791   \n",
       "5G                  -0.030551      -0.137378      -0.091775     0.214916   \n",
       "RAM                  0.151109      -0.200858      -0.139239     0.171498   \n",
       "ROM                  0.060931      -0.089422      -0.093725    -0.212476   \n",
       "Front_camera         1.000000      -0.019323      -0.007036    -0.010575   \n",
       "Ratings_count       -0.019323       1.000000       0.937312    -0.228256   \n",
       "Reviews_count       -0.007036       0.937312       1.000000    -0.139946   \n",
       "Battery_mAh         -0.010575      -0.228256      -0.139946     1.000000   \n",
       "Back_camera_sum      0.063610      -0.151780      -0.105631     0.126825   \n",
       "\n",
       "                 Back_camera_sum  \n",
       "Ratings                 0.090394  \n",
       "Price                   0.299195  \n",
       "5G                      0.376291  \n",
       "RAM                     0.558973  \n",
       "ROM                     0.370706  \n",
       "Front_camera            0.063610  \n",
       "Ratings_count          -0.151780  \n",
       "Reviews_count          -0.105631  \n",
       "Battery_mAh             0.126825  \n",
       "Back_camera_sum         1.000000  "
      ]
     },
     "execution_count": 55,
     "metadata": {},
     "output_type": "execute_result"
    }
   ],
   "source": [
    "correlation"
   ]
  },
  {
   "cell_type": "code",
   "execution_count": 56,
   "id": "I6lwZURoqndh",
   "metadata": {
    "colab": {
     "base_uri": "https://localhost:8080/",
     "height": 567
    },
    "id": "I6lwZURoqndh",
    "outputId": "57dfe05a-d52e-447e-d4f6-a6f4548e4e0b"
   },
   "outputs": [
    {
     "data": {
      "image/png": "[encoded data removed]",
      "text/plain": [
       "<Figure size 1000x500 with 2 Axes>"
      ]
     },
     "metadata": {},
     "output_type": "display_data"
    }
   ],
   "source": [
    "import seaborn as sns\n",
    "plt.figure(figsize=(10,5))\n",
    "sns.heatmap(correlation, annot=True, cmap=\"RdBu\")\n",
    "plt.show()"
   ]
  },
  {
   "cell_type": "code",
   "execution_count": 57,
   "id": "9kSlxDRMq96P",
   "metadata": {
    "colab": {
     "base_uri": "https://localhost:8080/",
     "height": 311
    },
    "id": "9kSlxDRMq96P",
    "outputId": "c1e7f397-26d7-4913-860a-109be4fe4f78"
   },
   "outputs": [
    {
     "data": {
      "image/png": "[encoded data removed]",
      "text/plain": [
       "<Figure size 1000x300 with 1 Axes>"
      ]
     },
     "metadata": {},
     "output_type": "display_data"
    }
   ],
   "source": [
    "plt.figure(figsize=(10,3))\n",
    "sns.barplot(x= \"Brand_name\", y=\"Price\", data=df)\n",
    "plt.show()"
   ]
  },
  {
   "cell_type": "markdown",
   "id": "VM1eOaQZrPjK",
   "metadata": {
    "id": "VM1eOaQZrPjK"
   },
   "source": [
    "### Findings after Data Analysis:\n",
    "\n",
    "- Maximum Smartphones have been rated more than 4 out of 5.\n",
    "- Maximum Smartphones have more than 4Gb of RAM.\n",
    "- Maximum Smartphones have more than 64Gb of ROM.\n",
    "- Most Smartphones have Mediatek Processors followed by Snapdragon.\n",
    "- Most Smartphones have 5000 mAh of battery.\n",
    "- With increase Ratings the Prices of Smartphones also increases.\n",
    "- Apple and Google are the most costliest Smartphones.\n",
    "- Both 4g ang 5g Smartphones almost have same price values.\n",
    "- The distribution of the Price, Reviews and Ratings_count are higly Right Skewed.\n",
    "- Price have a high postivie Correlation with ROM.\n",
    "- Price have a slight positive Correlation with Back_Camera, Front_Camera, RAM."
   ]
  },
  {
   "cell_type": "markdown",
   "id": "1jHderiIr_A-",
   "metadata": {
    "id": "1jHderiIr_A-"
   },
   "source": [
    "# Step 4: Model Selection, Training & Evaluation"
   ]
  },
  {
   "cell_type": "code",
   "execution_count": 60,
   "id": "qdlJhtG9sIMQ",
   "metadata": {
    "colab": {
     "base_uri": "https://localhost:8080/",
     "height": 143
    },
    "id": "qdlJhtG9sIMQ",
    "outputId": "022b2744-a17b-487e-dbf2-59deda9778c7"
   },
   "outputs": [
    {
     "data": {
      "text/html": [
       "<div>\n",
       "<style scoped>\n",
       "    .dataframe tbody tr th:only-of-type {\n",
       "        vertical-align: middle;\n",
       "    }\n",
       "\n",
       "    .dataframe tbody tr th {\n",
       "        vertical-align: top;\n",
       "    }\n",
       "\n",
       "    .dataframe thead th {\n",
       "        text-align: right;\n",
       "    }\n",
       "</style>\n",
       "<table border=\"1\" class=\"dataframe\">\n",
       "  <thead>\n",
       "    <tr style=\"text-align: right;\">\n",
       "      <th></th>\n",
       "      <th>Ratings</th>\n",
       "      <th>Price</th>\n",
       "      <th>Brand_name</th>\n",
       "      <th>5G</th>\n",
       "      <th>RAM</th>\n",
       "      <th>ROM</th>\n",
       "      <th>Front_camera</th>\n",
       "      <th>Processor_name</th>\n",
       "      <th>Ratings_count</th>\n",
       "      <th>Reviews_count</th>\n",
       "      <th>Battery_mAh</th>\n",
       "      <th>Back_camera_sum</th>\n",
       "    </tr>\n",
       "  </thead>\n",
       "  <tbody>\n",
       "    <tr>\n",
       "      <th>604</th>\n",
       "      <td>4</td>\n",
       "      <td>50999</td>\n",
       "      <td>Apple</td>\n",
       "      <td>0</td>\n",
       "      <td>4</td>\n",
       "      <td>128</td>\n",
       "      <td>12</td>\n",
       "      <td>Bionic</td>\n",
       "      <td>207953</td>\n",
       "      <td>13797</td>\n",
       "      <td>3000</td>\n",
       "      <td>24</td>\n",
       "    </tr>\n",
       "    <tr>\n",
       "      <th>808</th>\n",
       "      <td>4</td>\n",
       "      <td>9825</td>\n",
       "      <td>Others</td>\n",
       "      <td>1</td>\n",
       "      <td>4</td>\n",
       "      <td>64</td>\n",
       "      <td>8</td>\n",
       "      <td>Mediatek</td>\n",
       "      <td>645</td>\n",
       "      <td>48</td>\n",
       "      <td>5000</td>\n",
       "      <td>50</td>\n",
       "    </tr>\n",
       "    <tr>\n",
       "      <th>977</th>\n",
       "      <td>4</td>\n",
       "      <td>6649</td>\n",
       "      <td>Others</td>\n",
       "      <td>0</td>\n",
       "      <td>2</td>\n",
       "      <td>32</td>\n",
       "      <td>5</td>\n",
       "      <td>Others</td>\n",
       "      <td>910</td>\n",
       "      <td>48</td>\n",
       "      <td>5000</td>\n",
       "      <td>8</td>\n",
       "    </tr>\n",
       "  </tbody>\n",
       "</table>\n",
       "</div>"
      ],
      "text/plain": [
       "     Ratings  Price Brand_name  5G  RAM  ROM  Front_camera Processor_name  \\\n",
       "604        4  50999      Apple   0    4  128            12         Bionic   \n",
       "808        4   9825     Others   1    4   64             8       Mediatek   \n",
       "977        4   6649     Others   0    2   32             5         Others   \n",
       "\n",
       "     Ratings_count  Reviews_count  Battery_mAh  Back_camera_sum  \n",
       "604         207953          13797         3000               24  \n",
       "808            645             48         5000               50  \n",
       "977            910             48         5000                8  "
      ]
     },
     "execution_count": 60,
     "metadata": {},
     "output_type": "execute_result"
    }
   ],
   "source": [
    "df.sample(3)"
   ]
  },
  {
   "cell_type": "code",
   "execution_count": 61,
   "id": "06721387",
   "metadata": {
    "colab": {
     "base_uri": "https://localhost:8080/",
     "height": 206
    },
    "id": "06721387",
    "outputId": "abe233a4-9fe9-4f16-d58d-b2bea16e956c"
   },
   "outputs": [
    {
     "data": {
      "text/html": [
       "<div>\n",
       "<style scoped>\n",
       "    .dataframe tbody tr th:only-of-type {\n",
       "        vertical-align: middle;\n",
       "    }\n",
       "\n",
       "    .dataframe tbody tr th {\n",
       "        vertical-align: top;\n",
       "    }\n",
       "\n",
       "    .dataframe thead th {\n",
       "        text-align: right;\n",
       "    }\n",
       "</style>\n",
       "<table border=\"1\" class=\"dataframe\">\n",
       "  <thead>\n",
       "    <tr style=\"text-align: right;\">\n",
       "      <th></th>\n",
       "      <th>Price</th>\n",
       "      <th>Brand_name</th>\n",
       "      <th>5G</th>\n",
       "      <th>RAM</th>\n",
       "      <th>ROM</th>\n",
       "      <th>Front_camera</th>\n",
       "      <th>Processor_name</th>\n",
       "      <th>Back_camera_sum</th>\n",
       "    </tr>\n",
       "  </thead>\n",
       "  <tbody>\n",
       "    <tr>\n",
       "      <th>705</th>\n",
       "      <td>16889</td>\n",
       "      <td>Others</td>\n",
       "      <td>1</td>\n",
       "      <td>8</td>\n",
       "      <td>256</td>\n",
       "      <td>0</td>\n",
       "      <td>Others</td>\n",
       "      <td>50</td>\n",
       "    </tr>\n",
       "    <tr>\n",
       "      <th>807</th>\n",
       "      <td>11999</td>\n",
       "      <td>Others</td>\n",
       "      <td>0</td>\n",
       "      <td>8</td>\n",
       "      <td>128</td>\n",
       "      <td>0</td>\n",
       "      <td>Others</td>\n",
       "      <td>50</td>\n",
       "    </tr>\n",
       "    <tr>\n",
       "      <th>621</th>\n",
       "      <td>11999</td>\n",
       "      <td>vivo</td>\n",
       "      <td>0</td>\n",
       "      <td>6</td>\n",
       "      <td>128</td>\n",
       "      <td>8</td>\n",
       "      <td>Mediatek</td>\n",
       "      <td>52</td>\n",
       "    </tr>\n",
       "    <tr>\n",
       "      <th>447</th>\n",
       "      <td>64999</td>\n",
       "      <td>Samsung</td>\n",
       "      <td>1</td>\n",
       "      <td>8</td>\n",
       "      <td>128</td>\n",
       "      <td>12</td>\n",
       "      <td>Snapdragon</td>\n",
       "      <td>72</td>\n",
       "    </tr>\n",
       "    <tr>\n",
       "      <th>738</th>\n",
       "      <td>24999</td>\n",
       "      <td>realme</td>\n",
       "      <td>1</td>\n",
       "      <td>8</td>\n",
       "      <td>256</td>\n",
       "      <td>16</td>\n",
       "      <td>Mediatek</td>\n",
       "      <td>102</td>\n",
       "    </tr>\n",
       "  </tbody>\n",
       "</table>\n",
       "</div>"
      ],
      "text/plain": [
       "     Price Brand_name  5G  RAM  ROM  Front_camera Processor_name  \\\n",
       "705  16889     Others   1    8  256             0         Others   \n",
       "807  11999     Others   0    8  128             0         Others   \n",
       "621  11999       vivo   0    6  128             8       Mediatek   \n",
       "447  64999    Samsung   1    8  128            12     Snapdragon   \n",
       "738  24999     realme   1    8  256            16       Mediatek   \n",
       "\n",
       "     Back_camera_sum  \n",
       "705               50  \n",
       "807               50  \n",
       "621               52  \n",
       "447               72  \n",
       "738              102  "
      ]
     },
     "execution_count": 61,
     "metadata": {},
     "output_type": "execute_result"
    }
   ],
   "source": [
    "ml_df = df.drop(columns = ['Ratings', 'Ratings_count', 'Reviews_count', 'Battery_mAh'])\n",
    "ml_df.sample(5)"
   ]
  },
  {
   "cell_type": "code",
   "execution_count": 62,
   "id": "c132b020",
   "metadata": {
    "colab": {
     "base_uri": "https://localhost:8080/"
    },
    "id": "c132b020",
    "outputId": "9459ceaf-ab9d-44f2-96e3-f0541c151b97"
   },
   "outputs": [
    {
     "name": "stdout",
     "output_type": "stream",
     "text": [
      "<class 'pandas.core.frame.DataFrame'>\n",
      "Index: 660 entries, 0 to 983\n",
      "Data columns (total 8 columns):\n",
      " #   Column           Non-Null Count  Dtype \n",
      "---  ------           --------------  ----- \n",
      " 0   Price            660 non-null    int32 \n",
      " 1   Brand_name       660 non-null    object\n",
      " 2   5G               660 non-null    int32 \n",
      " 3   RAM              660 non-null    int32 \n",
      " 4   ROM              660 non-null    int32 \n",
      " 5   Front_camera     660 non-null    int32 \n",
      " 6   Processor_name   660 non-null    object\n",
      " 7   Back_camera_sum  660 non-null    int64 \n",
      "dtypes: int32(5), int64(1), object(2)\n",
      "memory usage: 33.5+ KB\n"
     ]
    }
   ],
   "source": [
    "ml_df.info()"
   ]
  },
  {
   "cell_type": "code",
   "execution_count": 63,
   "id": "5npDCdYQaVdv",
   "metadata": {
    "id": "5npDCdYQaVdv"
   },
   "outputs": [],
   "source": [
    "ml_df.to_csv(\"Dataset_used_for_modeling.csv\", index = False)"
   ]
  },
  {
   "cell_type": "markdown",
   "id": "4d510f82",
   "metadata": {
    "id": "4d510f82"
   },
   "source": [
    "# Machine learning Algorithms"
   ]
  },
  {
   "cell_type": "code",
   "execution_count": 65,
   "id": "r4DiDIc8sqWw",
   "metadata": {
    "colab": {
     "base_uri": "https://localhost:8080/"
    },
    "id": "r4DiDIc8sqWw",
    "outputId": "f5fab78c-c339-458c-8fca-31cdc005f954"
   },
   "outputs": [
    {
     "name": "stdout",
     "output_type": "stream",
     "text": [
      "<class 'pandas.core.frame.DataFrame'>\n",
      "Index: 660 entries, 0 to 983\n",
      "Data columns (total 8 columns):\n",
      " #   Column           Non-Null Count  Dtype \n",
      "---  ------           --------------  ----- \n",
      " 0   Price            660 non-null    int32 \n",
      " 1   Brand_name       660 non-null    object\n",
      " 2   5G               660 non-null    int32 \n",
      " 3   RAM              660 non-null    int32 \n",
      " 4   ROM              660 non-null    int32 \n",
      " 5   Front_camera     660 non-null    int32 \n",
      " 6   Processor_name   660 non-null    object\n",
      " 7   Back_camera_sum  660 non-null    int64 \n",
      "dtypes: int32(5), int64(1), object(2)\n",
      "memory usage: 33.5+ KB\n"
     ]
    }
   ],
   "source": [
    "ml_df.info()"
   ]
  },
  {
   "cell_type": "code",
   "execution_count": 66,
   "id": "dba465cf",
   "metadata": {
    "id": "dba465cf"
   },
   "outputs": [],
   "source": [
    "from sklearn.compose import ColumnTransformer\n",
    "from sklearn.pipeline import Pipeline\n",
    "from sklearn.preprocessing import OneHotEncoder\n",
    "from sklearn.model_selection import train_test_split\n",
    "from sklearn.model_selection import GridSearchCV\n",
    "from sklearn.preprocessing import StandardScaler\n",
    "from xgboost import XGBRegressor\n",
    "from sklearn.metrics import mean_absolute_error, mean_squared_error, r2_score\n"
   ]
  },
  {
   "cell_type": "code",
   "execution_count": 67,
   "id": "HtK577p6Xxpb",
   "metadata": {
    "id": "HtK577p6Xxpb"
   },
   "outputs": [],
   "source": [
    "# metrics to check the performace of the regression model\n",
    "from sklearn.metrics import mean_squared_error, r2_score\n",
    "def model_performance(y_test, y_predict):\n",
    "    print(\"mean sqaure error:\", mean_squared_error(y_test, y_predict))\n",
    "    print(\"root mean sqaure error:\", np.sqrt(mean_squared_error(y_test, y_predict)))\n",
    "    print(\"R2 score:\", r2_score(y_test, y_predict))"
   ]
  },
  {
   "cell_type": "code",
   "execution_count": 68,
   "id": "9d1a8b08",
   "metadata": {
    "id": "9d1a8b08"
   },
   "outputs": [],
   "source": [
    "categorical_columns = ['Brand_name', 'Processor_name']\n",
    "df_encoded = pd.get_dummies(ml_df, columns=categorical_columns)\n"
   ]
  },
  {
   "cell_type": "code",
   "execution_count": 69,
   "id": "9e0b94a8",
   "metadata": {
    "colab": {
     "base_uri": "https://localhost:8080/",
     "height": 255
    },
    "id": "9e0b94a8",
    "outputId": "834a0600-6bcd-4003-b669-72a00c674306"
   },
   "outputs": [
    {
     "data": {
      "text/html": [
       "<div>\n",
       "<style scoped>\n",
       "    .dataframe tbody tr th:only-of-type {\n",
       "        vertical-align: middle;\n",
       "    }\n",
       "\n",
       "    .dataframe tbody tr th {\n",
       "        vertical-align: top;\n",
       "    }\n",
       "\n",
       "    .dataframe thead th {\n",
       "        text-align: right;\n",
       "    }\n",
       "</style>\n",
       "<table border=\"1\" class=\"dataframe\">\n",
       "  <thead>\n",
       "    <tr style=\"text-align: right;\">\n",
       "      <th></th>\n",
       "      <th>Price</th>\n",
       "      <th>5G</th>\n",
       "      <th>RAM</th>\n",
       "      <th>ROM</th>\n",
       "      <th>Front_camera</th>\n",
       "      <th>Back_camera_sum</th>\n",
       "      <th>Brand_name_Apple</th>\n",
       "      <th>Brand_name_Google</th>\n",
       "      <th>Brand_name_Infinix</th>\n",
       "      <th>Brand_name_Motorola</th>\n",
       "      <th>...</th>\n",
       "      <th>Brand_name_Others</th>\n",
       "      <th>Brand_name_POCO</th>\n",
       "      <th>Brand_name_REDMI</th>\n",
       "      <th>Brand_name_Samsung</th>\n",
       "      <th>Brand_name_realme</th>\n",
       "      <th>Brand_name_vivo</th>\n",
       "      <th>Processor_name_Bionic</th>\n",
       "      <th>Processor_name_Mediatek</th>\n",
       "      <th>Processor_name_Others</th>\n",
       "      <th>Processor_name_Snapdragon</th>\n",
       "    </tr>\n",
       "  </thead>\n",
       "  <tbody>\n",
       "    <tr>\n",
       "      <th>388</th>\n",
       "      <td>6292</td>\n",
       "      <td>0</td>\n",
       "      <td>4</td>\n",
       "      <td>64</td>\n",
       "      <td>0</td>\n",
       "      <td>13</td>\n",
       "      <td>False</td>\n",
       "      <td>False</td>\n",
       "      <td>False</td>\n",
       "      <td>False</td>\n",
       "      <td>...</td>\n",
       "      <td>True</td>\n",
       "      <td>False</td>\n",
       "      <td>False</td>\n",
       "      <td>False</td>\n",
       "      <td>False</td>\n",
       "      <td>False</td>\n",
       "      <td>False</td>\n",
       "      <td>False</td>\n",
       "      <td>True</td>\n",
       "      <td>False</td>\n",
       "    </tr>\n",
       "    <tr>\n",
       "      <th>6</th>\n",
       "      <td>21999</td>\n",
       "      <td>1</td>\n",
       "      <td>8</td>\n",
       "      <td>256</td>\n",
       "      <td>50</td>\n",
       "      <td>123</td>\n",
       "      <td>False</td>\n",
       "      <td>False</td>\n",
       "      <td>True</td>\n",
       "      <td>False</td>\n",
       "      <td>...</td>\n",
       "      <td>False</td>\n",
       "      <td>False</td>\n",
       "      <td>False</td>\n",
       "      <td>False</td>\n",
       "      <td>False</td>\n",
       "      <td>False</td>\n",
       "      <td>False</td>\n",
       "      <td>True</td>\n",
       "      <td>False</td>\n",
       "      <td>False</td>\n",
       "    </tr>\n",
       "    <tr>\n",
       "      <th>625</th>\n",
       "      <td>13749</td>\n",
       "      <td>1</td>\n",
       "      <td>6</td>\n",
       "      <td>128</td>\n",
       "      <td>0</td>\n",
       "      <td>50</td>\n",
       "      <td>False</td>\n",
       "      <td>False</td>\n",
       "      <td>False</td>\n",
       "      <td>False</td>\n",
       "      <td>...</td>\n",
       "      <td>True</td>\n",
       "      <td>False</td>\n",
       "      <td>False</td>\n",
       "      <td>False</td>\n",
       "      <td>False</td>\n",
       "      <td>False</td>\n",
       "      <td>False</td>\n",
       "      <td>False</td>\n",
       "      <td>True</td>\n",
       "      <td>False</td>\n",
       "    </tr>\n",
       "    <tr>\n",
       "      <th>435</th>\n",
       "      <td>18999</td>\n",
       "      <td>1</td>\n",
       "      <td>6</td>\n",
       "      <td>128</td>\n",
       "      <td>13</td>\n",
       "      <td>58</td>\n",
       "      <td>False</td>\n",
       "      <td>False</td>\n",
       "      <td>False</td>\n",
       "      <td>False</td>\n",
       "      <td>...</td>\n",
       "      <td>False</td>\n",
       "      <td>True</td>\n",
       "      <td>False</td>\n",
       "      <td>False</td>\n",
       "      <td>False</td>\n",
       "      <td>False</td>\n",
       "      <td>False</td>\n",
       "      <td>False</td>\n",
       "      <td>False</td>\n",
       "      <td>True</td>\n",
       "    </tr>\n",
       "    <tr>\n",
       "      <th>144</th>\n",
       "      <td>6499</td>\n",
       "      <td>0</td>\n",
       "      <td>4</td>\n",
       "      <td>64</td>\n",
       "      <td>5</td>\n",
       "      <td>13</td>\n",
       "      <td>False</td>\n",
       "      <td>False</td>\n",
       "      <td>False</td>\n",
       "      <td>True</td>\n",
       "      <td>...</td>\n",
       "      <td>False</td>\n",
       "      <td>False</td>\n",
       "      <td>False</td>\n",
       "      <td>False</td>\n",
       "      <td>False</td>\n",
       "      <td>False</td>\n",
       "      <td>False</td>\n",
       "      <td>False</td>\n",
       "      <td>True</td>\n",
       "      <td>False</td>\n",
       "    </tr>\n",
       "  </tbody>\n",
       "</table>\n",
       "<p>5 rows × 22 columns</p>\n",
       "</div>"
      ],
      "text/plain": [
       "     Price  5G  RAM  ROM  Front_camera  Back_camera_sum  Brand_name_Apple  \\\n",
       "388   6292   0    4   64             0               13             False   \n",
       "6    21999   1    8  256            50              123             False   \n",
       "625  13749   1    6  128             0               50             False   \n",
       "435  18999   1    6  128            13               58             False   \n",
       "144   6499   0    4   64             5               13             False   \n",
       "\n",
       "     Brand_name_Google  Brand_name_Infinix  Brand_name_Motorola  ...  \\\n",
       "388              False               False                False  ...   \n",
       "6                False                True                False  ...   \n",
       "625              False               False                False  ...   \n",
       "435              False               False                False  ...   \n",
       "144              False               False                 True  ...   \n",
       "\n",
       "     Brand_name_Others  Brand_name_POCO  Brand_name_REDMI  Brand_name_Samsung  \\\n",
       "388               True            False             False               False   \n",
       "6                False            False             False               False   \n",
       "625               True            False             False               False   \n",
       "435              False             True             False               False   \n",
       "144              False            False             False               False   \n",
       "\n",
       "     Brand_name_realme  Brand_name_vivo  Processor_name_Bionic  \\\n",
       "388              False            False                  False   \n",
       "6                False            False                  False   \n",
       "625              False            False                  False   \n",
       "435              False            False                  False   \n",
       "144              False            False                  False   \n",
       "\n",
       "     Processor_name_Mediatek  Processor_name_Others  Processor_name_Snapdragon  \n",
       "388                    False                   True                      False  \n",
       "6                       True                  False                      False  \n",
       "625                    False                   True                      False  \n",
       "435                    False                  False                       True  \n",
       "144                    False                   True                      False  \n",
       "\n",
       "[5 rows x 22 columns]"
      ]
     },
     "execution_count": 69,
     "metadata": {},
     "output_type": "execute_result"
    }
   ],
   "source": [
    "df_encoded.sample(5)"
   ]
  },
  {
   "cell_type": "code",
   "execution_count": 70,
   "id": "a7d0ed35",
   "metadata": {
    "id": "a7d0ed35"
   },
   "outputs": [],
   "source": [
    "# Convert all boolean columns to integers\n",
    "df_encoded = df_encoded.astype(int)\n"
   ]
  },
  {
   "cell_type": "code",
   "execution_count": 71,
   "id": "yFJJy_XTbmBi",
   "metadata": {
    "colab": {
     "base_uri": "https://localhost:8080/",
     "height": 255
    },
    "id": "yFJJy_XTbmBi",
    "outputId": "c8da045b-4138-4294-918e-d473103fd5fc"
   },
   "outputs": [
    {
     "data": {
      "text/html": [
       "<div>\n",
       "<style scoped>\n",
       "    .dataframe tbody tr th:only-of-type {\n",
       "        vertical-align: middle;\n",
       "    }\n",
       "\n",
       "    .dataframe tbody tr th {\n",
       "        vertical-align: top;\n",
       "    }\n",
       "\n",
       "    .dataframe thead th {\n",
       "        text-align: right;\n",
       "    }\n",
       "</style>\n",
       "<table border=\"1\" class=\"dataframe\">\n",
       "  <thead>\n",
       "    <tr style=\"text-align: right;\">\n",
       "      <th></th>\n",
       "      <th>Price</th>\n",
       "      <th>5G</th>\n",
       "      <th>RAM</th>\n",
       "      <th>ROM</th>\n",
       "      <th>Front_camera</th>\n",
       "      <th>Back_camera_sum</th>\n",
       "      <th>Brand_name_Apple</th>\n",
       "      <th>Brand_name_Google</th>\n",
       "      <th>Brand_name_Infinix</th>\n",
       "      <th>Brand_name_Motorola</th>\n",
       "      <th>...</th>\n",
       "      <th>Brand_name_Others</th>\n",
       "      <th>Brand_name_POCO</th>\n",
       "      <th>Brand_name_REDMI</th>\n",
       "      <th>Brand_name_Samsung</th>\n",
       "      <th>Brand_name_realme</th>\n",
       "      <th>Brand_name_vivo</th>\n",
       "      <th>Processor_name_Bionic</th>\n",
       "      <th>Processor_name_Mediatek</th>\n",
       "      <th>Processor_name_Others</th>\n",
       "      <th>Processor_name_Snapdragon</th>\n",
       "    </tr>\n",
       "  </thead>\n",
       "  <tbody>\n",
       "    <tr>\n",
       "      <th>299</th>\n",
       "      <td>7299</td>\n",
       "      <td>0</td>\n",
       "      <td>4</td>\n",
       "      <td>128</td>\n",
       "      <td>5</td>\n",
       "      <td>13</td>\n",
       "      <td>0</td>\n",
       "      <td>0</td>\n",
       "      <td>1</td>\n",
       "      <td>0</td>\n",
       "      <td>...</td>\n",
       "      <td>0</td>\n",
       "      <td>0</td>\n",
       "      <td>0</td>\n",
       "      <td>0</td>\n",
       "      <td>0</td>\n",
       "      <td>0</td>\n",
       "      <td>0</td>\n",
       "      <td>0</td>\n",
       "      <td>1</td>\n",
       "      <td>0</td>\n",
       "    </tr>\n",
       "    <tr>\n",
       "      <th>978</th>\n",
       "      <td>6599</td>\n",
       "      <td>0</td>\n",
       "      <td>2</td>\n",
       "      <td>32</td>\n",
       "      <td>5</td>\n",
       "      <td>8</td>\n",
       "      <td>0</td>\n",
       "      <td>0</td>\n",
       "      <td>0</td>\n",
       "      <td>0</td>\n",
       "      <td>...</td>\n",
       "      <td>1</td>\n",
       "      <td>0</td>\n",
       "      <td>0</td>\n",
       "      <td>0</td>\n",
       "      <td>0</td>\n",
       "      <td>0</td>\n",
       "      <td>0</td>\n",
       "      <td>0</td>\n",
       "      <td>1</td>\n",
       "      <td>0</td>\n",
       "    </tr>\n",
       "    <tr>\n",
       "      <th>923</th>\n",
       "      <td>95999</td>\n",
       "      <td>0</td>\n",
       "      <td>4</td>\n",
       "      <td>512</td>\n",
       "      <td>12</td>\n",
       "      <td>60</td>\n",
       "      <td>1</td>\n",
       "      <td>0</td>\n",
       "      <td>0</td>\n",
       "      <td>0</td>\n",
       "      <td>...</td>\n",
       "      <td>0</td>\n",
       "      <td>0</td>\n",
       "      <td>0</td>\n",
       "      <td>0</td>\n",
       "      <td>0</td>\n",
       "      <td>0</td>\n",
       "      <td>1</td>\n",
       "      <td>0</td>\n",
       "      <td>0</td>\n",
       "      <td>0</td>\n",
       "    </tr>\n",
       "    <tr>\n",
       "      <th>880</th>\n",
       "      <td>15999</td>\n",
       "      <td>1</td>\n",
       "      <td>4</td>\n",
       "      <td>128</td>\n",
       "      <td>16</td>\n",
       "      <td>52</td>\n",
       "      <td>0</td>\n",
       "      <td>0</td>\n",
       "      <td>0</td>\n",
       "      <td>0</td>\n",
       "      <td>...</td>\n",
       "      <td>0</td>\n",
       "      <td>0</td>\n",
       "      <td>0</td>\n",
       "      <td>0</td>\n",
       "      <td>0</td>\n",
       "      <td>1</td>\n",
       "      <td>0</td>\n",
       "      <td>1</td>\n",
       "      <td>0</td>\n",
       "      <td>0</td>\n",
       "    </tr>\n",
       "    <tr>\n",
       "      <th>355</th>\n",
       "      <td>7587</td>\n",
       "      <td>0</td>\n",
       "      <td>4</td>\n",
       "      <td>128</td>\n",
       "      <td>55</td>\n",
       "      <td>16</td>\n",
       "      <td>0</td>\n",
       "      <td>0</td>\n",
       "      <td>0</td>\n",
       "      <td>0</td>\n",
       "      <td>...</td>\n",
       "      <td>0</td>\n",
       "      <td>0</td>\n",
       "      <td>1</td>\n",
       "      <td>0</td>\n",
       "      <td>0</td>\n",
       "      <td>0</td>\n",
       "      <td>0</td>\n",
       "      <td>0</td>\n",
       "      <td>1</td>\n",
       "      <td>0</td>\n",
       "    </tr>\n",
       "  </tbody>\n",
       "</table>\n",
       "<p>5 rows × 22 columns</p>\n",
       "</div>"
      ],
      "text/plain": [
       "     Price  5G  RAM  ROM  Front_camera  Back_camera_sum  Brand_name_Apple  \\\n",
       "299   7299   0    4  128             5               13                 0   \n",
       "978   6599   0    2   32             5                8                 0   \n",
       "923  95999   0    4  512            12               60                 1   \n",
       "880  15999   1    4  128            16               52                 0   \n",
       "355   7587   0    4  128            55               16                 0   \n",
       "\n",
       "     Brand_name_Google  Brand_name_Infinix  Brand_name_Motorola  ...  \\\n",
       "299                  0                   1                    0  ...   \n",
       "978                  0                   0                    0  ...   \n",
       "923                  0                   0                    0  ...   \n",
       "880                  0                   0                    0  ...   \n",
       "355                  0                   0                    0  ...   \n",
       "\n",
       "     Brand_name_Others  Brand_name_POCO  Brand_name_REDMI  Brand_name_Samsung  \\\n",
       "299                  0                0                 0                   0   \n",
       "978                  1                0                 0                   0   \n",
       "923                  0                0                 0                   0   \n",
       "880                  0                0                 0                   0   \n",
       "355                  0                0                 1                   0   \n",
       "\n",
       "     Brand_name_realme  Brand_name_vivo  Processor_name_Bionic  \\\n",
       "299                  0                0                      0   \n",
       "978                  0                0                      0   \n",
       "923                  0                0                      1   \n",
       "880                  0                1                      0   \n",
       "355                  0                0                      0   \n",
       "\n",
       "     Processor_name_Mediatek  Processor_name_Others  Processor_name_Snapdragon  \n",
       "299                        0                      1                          0  \n",
       "978                        0                      1                          0  \n",
       "923                        0                      0                          0  \n",
       "880                        1                      0                          0  \n",
       "355                        0                      1                          0  \n",
       "\n",
       "[5 rows x 22 columns]"
      ]
     },
     "execution_count": 71,
     "metadata": {},
     "output_type": "execute_result"
    }
   ],
   "source": [
    "df_encoded.sample(5)"
   ]
  },
  {
   "cell_type": "code",
   "execution_count": 72,
   "id": "4cf27a8c",
   "metadata": {
    "colab": {
     "base_uri": "https://localhost:8080/"
    },
    "id": "4cf27a8c",
    "outputId": "2ef7d39f-cf6a-4db8-d774-dfae3b274371"
   },
   "outputs": [
    {
     "data": {
      "text/plain": [
       "Index(['Price', '5G', 'RAM', 'ROM', 'Front_camera', 'Back_camera_sum',\n",
       "       'Brand_name_Apple', 'Brand_name_Google', 'Brand_name_Infinix',\n",
       "       'Brand_name_Motorola', 'Brand_name_OPPO', 'Brand_name_OnePlus',\n",
       "       'Brand_name_Others', 'Brand_name_POCO', 'Brand_name_REDMI',\n",
       "       'Brand_name_Samsung', 'Brand_name_realme', 'Brand_name_vivo',\n",
       "       'Processor_name_Bionic', 'Processor_name_Mediatek',\n",
       "       'Processor_name_Others', 'Processor_name_Snapdragon'],\n",
       "      dtype='object')"
      ]
     },
     "execution_count": 72,
     "metadata": {},
     "output_type": "execute_result"
    }
   ],
   "source": [
    "df_encoded.columns"
   ]
  },
  {
   "cell_type": "code",
   "execution_count": 73,
   "id": "LNQc-EvHbuFp",
   "metadata": {
    "colab": {
     "base_uri": "https://localhost:8080/"
    },
    "id": "LNQc-EvHbuFp",
    "outputId": "a6e0f663-fd93-4522-d876-f1d693d2831e"
   },
   "outputs": [
    {
     "name": "stdout",
     "output_type": "stream",
     "text": [
      "<class 'pandas.core.frame.DataFrame'>\n",
      "Index: 660 entries, 0 to 983\n",
      "Data columns (total 22 columns):\n",
      " #   Column                     Non-Null Count  Dtype\n",
      "---  ------                     --------------  -----\n",
      " 0   Price                      660 non-null    int32\n",
      " 1   5G                         660 non-null    int32\n",
      " 2   RAM                        660 non-null    int32\n",
      " 3   ROM                        660 non-null    int32\n",
      " 4   Front_camera               660 non-null    int32\n",
      " 5   Back_camera_sum            660 non-null    int32\n",
      " 6   Brand_name_Apple           660 non-null    int32\n",
      " 7   Brand_name_Google          660 non-null    int32\n",
      " 8   Brand_name_Infinix         660 non-null    int32\n",
      " 9   Brand_name_Motorola        660 non-null    int32\n",
      " 10  Brand_name_OPPO            660 non-null    int32\n",
      " 11  Brand_name_OnePlus         660 non-null    int32\n",
      " 12  Brand_name_Others          660 non-null    int32\n",
      " 13  Brand_name_POCO            660 non-null    int32\n",
      " 14  Brand_name_REDMI           660 non-null    int32\n",
      " 15  Brand_name_Samsung         660 non-null    int32\n",
      " 16  Brand_name_realme          660 non-null    int32\n",
      " 17  Brand_name_vivo            660 non-null    int32\n",
      " 18  Processor_name_Bionic      660 non-null    int32\n",
      " 19  Processor_name_Mediatek    660 non-null    int32\n",
      " 20  Processor_name_Others      660 non-null    int32\n",
      " 21  Processor_name_Snapdragon  660 non-null    int32\n",
      "dtypes: int32(22)\n",
      "memory usage: 61.9 KB\n"
     ]
    }
   ],
   "source": [
    "df_encoded.info()"
   ]
  },
  {
   "cell_type": "code",
   "execution_count": 74,
   "id": "0d70eaa9",
   "metadata": {
    "id": "0d70eaa9"
   },
   "outputs": [],
   "source": [
    "X = df_encoded.drop('Price', axis=1)\n",
    "y = df_encoded['Price']\n"
   ]
  },
  {
   "cell_type": "code",
   "execution_count": 75,
   "id": "45a32143",
   "metadata": {
    "id": "45a32143"
   },
   "outputs": [],
   "source": [
    "X_train, X_test, y_train, y_test = train_test_split(X, y, test_size=0.2, random_state=42)\n"
   ]
  },
  {
   "cell_type": "code",
   "execution_count": 76,
   "id": "vJFRklgsYE9x",
   "metadata": {
    "id": "vJFRklgsYE9x"
   },
   "outputs": [],
   "source": [
    "# Scaling your data\n",
    "# Importing StandardScaler library\n",
    "from sklearn.preprocessing import StandardScaler\n",
    "# Creating object\n",
    "ss= StandardScaler()\n",
    "\n",
    "# Fit and Transform\n",
    "X_train_scaled= ss.fit_transform(X_train)\n",
    "X_test_scaled = ss.transform(X_test)"
   ]
  },
  {
   "cell_type": "code",
   "execution_count": 77,
   "id": "vyOL1OGbZ8H3",
   "metadata": {
    "colab": {
     "base_uri": "https://localhost:8080/"
    },
    "id": "vyOL1OGbZ8H3",
    "outputId": "3b33e84c-7216-46c2-cfc8-f1fb09a734fb"
   },
   "outputs": [
    {
     "data": {
      "text/plain": [
       "array([[ 1.07885793,  0.52408942, -0.2713875 , ...,  1.39632398,\n",
       "        -0.8385856 , -0.45025935],\n",
       "       [ 1.07885793,  0.52408942, -0.2713875 , ..., -0.71616617,\n",
       "        -0.8385856 ,  2.2209422 ],\n",
       "       [-0.92690611,  0.52408942, -0.2713875 , ...,  1.39632398,\n",
       "        -0.8385856 , -0.45025935],\n",
       "       ...,\n",
       "       [ 1.07885793,  0.52408942,  0.82244914, ..., -0.71616617,\n",
       "         1.19248411, -0.45025935],\n",
       "       [-0.92690611, -0.93617028, -0.2713875 , ..., -0.71616617,\n",
       "        -0.8385856 , -0.45025935],\n",
       "       [-0.92690611, -0.20604043, -0.2713875 , ...,  1.39632398,\n",
       "        -0.8385856 , -0.45025935]])"
      ]
     },
     "execution_count": 77,
     "metadata": {},
     "output_type": "execute_result"
    }
   ],
   "source": [
    "X_train_scaled"
   ]
  },
  {
   "cell_type": "code",
   "execution_count": 78,
   "id": "6mGzgznLZ_dd",
   "metadata": {
    "colab": {
     "base_uri": "https://localhost:8080/"
    },
    "id": "6mGzgznLZ_dd",
    "outputId": "08dee75e-999a-4c24-a0d7-b29df04a9d05"
   },
   "outputs": [
    {
     "data": {
      "text/plain": [
       "18     14999\n",
       "524    45999\n",
       "883    17999\n",
       "805     8450\n",
       "85     18863\n",
       "       ...  \n",
       "99      8499\n",
       "161    27999\n",
       "403    19900\n",
       "629    50999\n",
       "157     6999\n",
       "Name: Price, Length: 528, dtype: int32"
      ]
     },
     "execution_count": 78,
     "metadata": {},
     "output_type": "execute_result"
    }
   ],
   "source": [
    "y_train"
   ]
  },
  {
   "cell_type": "markdown",
   "id": "T_84eiSUYRIu",
   "metadata": {
    "id": "T_84eiSUYRIu"
   },
   "source": [
    "## Machine Learning Model 1 (Linear Regression)\n"
   ]
  },
  {
   "cell_type": "code",
   "execution_count": 80,
   "id": "I9BQwzhQYQOo",
   "metadata": {
    "id": "I9BQwzhQYQOo"
   },
   "outputs": [],
   "source": [
    "# Importing LinearRegression from sklearn\n",
    "from sklearn.linear_model import LinearRegression\n",
    "\n",
    "# Create a Linear Regression model\n",
    "lr = LinearRegression()\n",
    "\n",
    "# Fit the model on the training data\n",
    "lr.fit(X_train_scaled, y_train)\n",
    "\n",
    "# Predict on the test set\n",
    "y_linear_pred = lr.predict(X_test_scaled)"
   ]
  },
  {
   "cell_type": "code",
   "execution_count": 81,
   "id": "MhlD6kMrYe7S",
   "metadata": {
    "colab": {
     "base_uri": "https://localhost:8080/"
    },
    "id": "MhlD6kMrYe7S",
    "outputId": "7d5f9869-780c-4d42-b94d-4cb57132274a"
   },
   "outputs": [
    {
     "name": "stdout",
     "output_type": "stream",
     "text": [
      "mean sqaure error: 288531536.12692773\n",
      "root mean sqaure error: 16986.21606264702\n",
      "R2 score: 0.7503711370989328\n"
     ]
    }
   ],
   "source": [
    "\n",
    "# Evaluate model performance\n",
    "model_performance(y_test, y_linear_pred)"
   ]
  },
  {
   "cell_type": "markdown",
   "id": "1WzBmYM1YoHQ",
   "metadata": {
    "id": "1WzBmYM1YoHQ"
   },
   "source": [
    "#### The performance of Linear Regression is worst, so applying another machine learning algorithm."
   ]
  },
  {
   "cell_type": "markdown",
   "id": "3onXphecYxxI",
   "metadata": {
    "id": "3onXphecYxxI"
   },
   "source": [
    "## Machine Learning Model 2 (RandomForestRegressor)"
   ]
  },
  {
   "cell_type": "code",
   "execution_count": 84,
   "id": "Lm5RSQkmY5gG",
   "metadata": {
    "id": "Lm5RSQkmY5gG"
   },
   "outputs": [],
   "source": [
    "# import the regressor\n",
    "from sklearn.ensemble import RandomForestRegressor\n",
    "\n",
    "# create a regressor object\n",
    "RF_TreeR = RandomForestRegressor(n_estimators=50, max_depth=18)\n",
    "\n",
    "# fit the regressor with X and Y data\n",
    "RF_TreeR.fit(X_train_scaled, y_train)\n",
    "\n",
    "# predict the model\n",
    "\n",
    "y_test_RFtree_pred= RF_TreeR.predict(X_test_scaled)"
   ]
  },
  {
   "cell_type": "code",
   "execution_count": 85,
   "id": "SPJhLh2FY7ES",
   "metadata": {
    "colab": {
     "base_uri": "https://localhost:8080/"
    },
    "id": "SPJhLh2FY7ES",
    "outputId": "eae0104b-6dd0-4cd5-b5b9-e4cac0226d3e"
   },
   "outputs": [
    {
     "name": "stdout",
     "output_type": "stream",
     "text": [
      "mean sqaure error: 41589820.46306378\n",
      "root mean sqaure error: 6449.017015256184\n",
      "R2 score: 0.9640177301593577\n"
     ]
    }
   ],
   "source": [
    "model_performance(y_test, y_test_RFtree_pred)"
   ]
  },
  {
   "cell_type": "code",
   "execution_count": 86,
   "id": "Y4db-1Ooeb6Q",
   "metadata": {
    "colab": {
     "base_uri": "https://localhost:8080/"
    },
    "id": "Y4db-1Ooeb6Q",
    "outputId": "2f3ef1ce-08b3-4d43-d6ae-fa8a3fa27f02"
   },
   "outputs": [
    {
     "name": "stdout",
     "output_type": "stream",
     "text": [
      "Fitting 3 folds for each of 125 candidates, totalling 375 fits\n",
      "The best values found out to be: {'max_depth': 30, 'min_samples_leaf': 1, 'n_estimators': 30}\n",
      "Negative mean square error is: -93911378.65919392\n"
     ]
    }
   ],
   "source": [
    "# Import necessary libraries\n",
    "from sklearn.ensemble import RandomForestRegressor\n",
    "from sklearn.model_selection import GridSearchCV\n",
    "\n",
    "# Creating RandomForestRegressor instance\n",
    "RF_tree = RandomForestRegressor()\n",
    "\n",
    "# Defining parameters\n",
    "parameters = {\n",
    "    'n_estimators': [5, 10, 25, 30, 35],\n",
    "    'max_depth': [10, 15, 20, 25, 30],\n",
    "    'min_samples_leaf': [0.5, 1, 2, 3, 4]\n",
    "}\n",
    "\n",
    "# Train the model using GridSearchCV\n",
    "RF_treeG = GridSearchCV(RF_tree, parameters, n_jobs=-1, scoring='neg_mean_squared_error', cv=3, verbose=3)\n",
    "RF_treeG.fit(X_train_scaled, y_train)\n",
    "\n",
    "# Predict the output\n",
    "y_test_grid_RFtree_pred = RF_treeG.predict(X_test_scaled)\n",
    "\n",
    "# Printing the best parameters obtained by GridSearchCV\n",
    "print(f\"The best values found out to be: {RF_treeG.best_params_}\")\n",
    "print(f\"Negative mean square error is: {RF_treeG.best_score_}\")\n"
   ]
  },
  {
   "cell_type": "code",
   "execution_count": 87,
   "id": "KFba1TqxegPn",
   "metadata": {
    "colab": {
     "base_uri": "https://localhost:8080/"
    },
    "id": "KFba1TqxegPn",
    "outputId": "4a9b6018-1f7c-46e0-8339-487ad0f44ba1"
   },
   "outputs": [
    {
     "name": "stdout",
     "output_type": "stream",
     "text": [
      "mean sqaure error: 36886772.54929918\n",
      "root mean sqaure error: 6073.44815976058\n",
      "R2 score: 0.9680866666736867\n"
     ]
    }
   ],
   "source": [
    "model_performance(y_test, y_test_grid_RFtree_pred)"
   ]
  },
  {
   "cell_type": "markdown",
   "id": "htbfEqWcZZ7K",
   "metadata": {
    "id": "htbfEqWcZZ7K"
   },
   "source": [
    "#### The performance of Random Forest Regression is better than Linear Regression but we will applying other machine learning algorithms also."
   ]
  },
  {
   "cell_type": "markdown",
   "id": "t9QJkv-tZo2t",
   "metadata": {
    "id": "t9QJkv-tZo2t"
   },
   "source": [
    "## Training (XGBRegressor)"
   ]
  },
  {
   "cell_type": "code",
   "execution_count": 90,
   "id": "XH4iK-TFZZCf",
   "metadata": {
    "id": "XH4iK-TFZZCf"
   },
   "outputs": [],
   "source": [
    "# ML Model - 3 Implementation\n",
    "# import the regressor\n",
    "from xgboost import XGBRegressor\n",
    "\n",
    "# create a regressor object\n",
    "xgbR = XGBRegressor()\n",
    "\n",
    "# fit the regressor with X and Y data\n",
    "xgbR.fit(X_train_scaled, y_train)\n",
    "\n",
    "# predict the model\n",
    "y_test_xgbR_pred= xgbR.predict(X_test_scaled)"
   ]
  },
  {
   "cell_type": "code",
   "execution_count": 91,
   "id": "DXGMxlDJZwCF",
   "metadata": {
    "colab": {
     "base_uri": "https://localhost:8080/"
    },
    "id": "DXGMxlDJZwCF",
    "outputId": "cc5b2fa5-0ed3-4da2-f93f-c06a1a4fbdaf"
   },
   "outputs": [
    {
     "name": "stdout",
     "output_type": "stream",
     "text": [
      "mean sqaure error: 27825383.762841433\n",
      "root mean sqaure error: 5274.977133869059\n",
      "R2 score: 0.975926309471252\n"
     ]
    }
   ],
   "source": [
    "model_performance(y_test, y_test_xgbR_pred)"
   ]
  },
  {
   "cell_type": "code",
   "execution_count": 92,
   "id": "Fb202v6wc3cN",
   "metadata": {
    "colab": {
     "base_uri": "https://localhost:8080/"
    },
    "id": "Fb202v6wc3cN",
    "outputId": "69dc3303-18e8-4043-ff5f-35067885de5c"
   },
   "outputs": [
    {
     "name": "stdout",
     "output_type": "stream",
     "text": [
      "Fitting 3 folds for each of 25 candidates, totalling 75 fits\n",
      "The best alpha value found out to be: {'learning_rate': 0.3, 'max_depth': 6}\n",
      "Negative mean square error is: -79247586.2468558\n"
     ]
    }
   ],
   "source": [
    "# XGBoost with RandomizedSearchCV\n",
    "from sklearn.model_selection import GridSearchCV\n",
    "\n",
    "# Creating XGBoost instance\n",
    "xgb= XGBRegressor()\n",
    "\n",
    "# Defining parameters\n",
    "parameters={\"learning_rate\":[0.1, 0.5, 0.2, 0.3, 0.4],\"max_depth\":[2,4,6,8,10]}\n",
    "\n",
    "# Train the model\n",
    "xgb_Rand_R= GridSearchCV(xgb,parameters,scoring='neg_mean_squared_error',n_jobs=-1,cv=3,verbose=3)\n",
    "xgb_Rand_R.fit(X_train_scaled,y_train)\n",
    "\n",
    "# Predict the output\n",
    "y_test_rand_xgbR_pred = xgb_Rand_R.predict(X_test_scaled)\n",
    "\n",
    "# Printing the best parameters obtained by GridSearchCV\n",
    "print(f\"The best alpha value found out to be: {xgb_Rand_R.best_params_}\")\n",
    "print(f\"Negative mean square error is: {xgb_Rand_R.best_score_}\")"
   ]
  },
  {
   "cell_type": "code",
   "execution_count": 93,
   "id": "8yNaiTaQdCw8",
   "metadata": {
    "colab": {
     "base_uri": "https://localhost:8080/"
    },
    "id": "8yNaiTaQdCw8",
    "outputId": "7df612da-de32-4474-d078-26184a99014e"
   },
   "outputs": [
    {
     "name": "stdout",
     "output_type": "stream",
     "text": [
      "mean sqaure error: 27825383.762841433\n",
      "root mean sqaure error: 5274.977133869059\n",
      "R2 score: 0.975926309471252\n"
     ]
    }
   ],
   "source": [
    "model_performance(y_test, y_test_rand_xgbR_pred)"
   ]
  },
  {
   "cell_type": "markdown",
   "id": "BnbjfVU7fzJ6",
   "metadata": {
    "id": "BnbjfVU7fzJ6"
   },
   "source": [
    "## Final Model."
   ]
  },
  {
   "cell_type": "code",
   "execution_count": 95,
   "id": "8d378897",
   "metadata": {
    "id": "8d378897"
   },
   "outputs": [],
   "source": [
    "pipeline = Pipeline([\n",
    "    ('scaler', StandardScaler()),  # Normalize the data\n",
    "    ('xgb', XGBRegressor(objective='reg:squarederror', random_state=42))  # XGBoost regressor\n",
    "])\n"
   ]
  },
  {
   "cell_type": "code",
   "execution_count": 96,
   "id": "ec5f8533",
   "metadata": {
    "colab": {
     "base_uri": "https://localhost:8080/",
     "height": 124
    },
    "id": "ec5f8533",
    "outputId": "15d00b83-4868-4396-a16d-7edd234a284a"
   },
   "outputs": [
    {
     "data": {
      "text/html": [
       "<style>#sk-container-id-1 {\n",
       "  /* Definition of color scheme common for light and dark mode */\n",
       "  --sklearn-color-text: black;\n",
       "  --sklearn-color-line: gray;\n",
       "  /* Definition of color scheme for unfitted estimators */\n",
       "  --sklearn-color-unfitted-level-0: #fff5e6;\n",
       "  --sklearn-color-unfitted-level-1: #f6e4d2;\n",
       "  --sklearn-color-unfitted-level-2: #ffe0b3;\n",
       "  --sklearn-color-unfitted-level-3: chocolate;\n",
       "  /* Definition of color scheme for fitted estimators */\n",
       "  --sklearn-color-fitted-level-0: #f0f8ff;\n",
       "  --sklearn-color-fitted-level-1: #d4ebff;\n",
       "  --sklearn-color-fitted-level-2: #b3dbfd;\n",
       "  --sklearn-color-fitted-level-3: cornflowerblue;\n",
       "\n",
       "  /* Specific color for light theme */\n",
       "  --sklearn-color-text-on-default-background: var(--sg-text-color, var(--theme-code-foreground, var(--jp-content-font-color1, black)));\n",
       "  --sklearn-color-background: var(--sg-background-color, var(--theme-background, var(--jp-layout-color0, white)));\n",
       "  --sklearn-color-border-box: var(--sg-text-color, var(--theme-code-foreground, var(--jp-content-font-color1, black)));\n",
       "  --sklearn-color-icon: #696969;\n",
       "\n",
       "  @media (prefers-color-scheme: dark) {\n",
       "    /* Redefinition of color scheme for dark theme */\n",
       "    --sklearn-color-text-on-default-background: var(--sg-text-color, var(--theme-code-foreground, var(--jp-content-font-color1, white)));\n",
       "    --sklearn-color-background: var(--sg-background-color, var(--theme-background, var(--jp-layout-color0, #111)));\n",
       "    --sklearn-color-border-box: var(--sg-text-color, var(--theme-code-foreground, var(--jp-content-font-color1, white)));\n",
       "    --sklearn-color-icon: #878787;\n",
       "  }\n",
       "}\n",
       "\n",
       "#sk-container-id-1 {\n",
       "  color: var(--sklearn-color-text);\n",
       "}\n",
       "\n",
       "#sk-container-id-1 pre {\n",
       "  padding: 0;\n",
       "}\n",
       "\n",
       "#sk-container-id-1 input.sk-hidden--visually {\n",
       "  border: 0;\n",
       "  clip: rect(1px 1px 1px 1px);\n",
       "  clip: rect(1px, 1px, 1px, 1px);\n",
       "  height: 1px;\n",
       "  margin: -1px;\n",
       "  overflow: hidden;\n",
       "  padding: 0;\n",
       "  position: absolute;\n",
       "  width: 1px;\n",
       "}\n",
       "\n",
       "#sk-container-id-1 div.sk-dashed-wrapped {\n",
       "  border: 1px dashed var(--sklearn-color-line);\n",
       "  margin: 0 0.4em 0.5em 0.4em;\n",
       "  box-sizing: border-box;\n",
       "  padding-bottom: 0.4em;\n",
       "  background-color: var(--sklearn-color-background);\n",
       "}\n",
       "\n",
       "#sk-container-id-1 div.sk-container {\n",
       "  /* jupyter's `normalize.less` sets `[hidden] { display: none; }`\n",
       "     but bootstrap.min.css set `[hidden] { display: none !important; }`\n",
       "     so we also need the `!important` here to be able to override the\n",
       "     default hidden behavior on the sphinx rendered scikit-learn.org.\n",
       "     See: https://github.com/scikit-learn/scikit-learn/issues/21755 */\n",
       "  display: inline-block !important;\n",
       "  position: relative;\n",
       "}\n",
       "\n",
       "#sk-container-id-1 div.sk-text-repr-fallback {\n",
       "  display: none;\n",
       "}\n",
       "\n",
       "div.sk-parallel-item,\n",
       "div.sk-serial,\n",
       "div.sk-item {\n",
       "  /* draw centered vertical line to link estimators */\n",
       "  background-image: linear-gradient(var(--sklearn-color-text-on-default-background), var(--sklearn-color-text-on-default-background));\n",
       "  background-size: 2px 100%;\n",
       "  background-repeat: no-repeat;\n",
       "  background-position: center center;\n",
       "}\n",
       "\n",
       "/* Parallel-specific style estimator block */\n",
       "\n",
       "#sk-container-id-1 div.sk-parallel-item::after {\n",
       "  content: \"\";\n",
       "  width: 100%;\n",
       "  border-bottom: 2px solid var(--sklearn-color-text-on-default-background);\n",
       "  flex-grow: 1;\n",
       "}\n",
       "\n",
       "#sk-container-id-1 div.sk-parallel {\n",
       "  display: flex;\n",
       "  align-items: stretch;\n",
       "  justify-content: center;\n",
       "  background-color: var(--sklearn-color-background);\n",
       "  position: relative;\n",
       "}\n",
       "\n",
       "#sk-container-id-1 div.sk-parallel-item {\n",
       "  display: flex;\n",
       "  flex-direction: column;\n",
       "}\n",
       "\n",
       "#sk-container-id-1 div.sk-parallel-item:first-child::after {\n",
       "  align-self: flex-end;\n",
       "  width: 50%;\n",
       "}\n",
       "\n",
       "#sk-container-id-1 div.sk-parallel-item:last-child::after {\n",
       "  align-self: flex-start;\n",
       "  width: 50%;\n",
       "}\n",
       "\n",
       "#sk-container-id-1 div.sk-parallel-item:only-child::after {\n",
       "  width: 0;\n",
       "}\n",
       "\n",
       "/* Serial-specific style estimator block */\n",
       "\n",
       "#sk-container-id-1 div.sk-serial {\n",
       "  display: flex;\n",
       "  flex-direction: column;\n",
       "  align-items: center;\n",
       "  background-color: var(--sklearn-color-background);\n",
       "  padding-right: 1em;\n",
       "  padding-left: 1em;\n",
       "}\n",
       "\n",
       "\n",
       "/* Toggleable style: style used for estimator/Pipeline/ColumnTransformer box that is\n",
       "clickable and can be expanded/collapsed.\n",
       "- Pipeline and ColumnTransformer use this feature and define the default style\n",
       "- Estimators will overwrite some part of the style using the `sk-estimator` class\n",
       "*/\n",
       "\n",
       "/* Pipeline and ColumnTransformer style (default) */\n",
       "\n",
       "#sk-container-id-1 div.sk-toggleable {\n",
       "  /* Default theme specific background. It is overwritten whether we have a\n",
       "  specific estimator or a Pipeline/ColumnTransformer */\n",
       "  background-color: var(--sklearn-color-background);\n",
       "}\n",
       "\n",
       "/* Toggleable label */\n",
       "#sk-container-id-1 label.sk-toggleable__label {\n",
       "  cursor: pointer;\n",
       "  display: block;\n",
       "  width: 100%;\n",
       "  margin-bottom: 0;\n",
       "  padding: 0.5em;\n",
       "  box-sizing: border-box;\n",
       "  text-align: center;\n",
       "}\n",
       "\n",
       "#sk-container-id-1 label.sk-toggleable__label-arrow:before {\n",
       "  /* Arrow on the left of the label */\n",
       "  content: \"▸\";\n",
       "  float: left;\n",
       "  margin-right: 0.25em;\n",
       "  color: var(--sklearn-color-icon);\n",
       "}\n",
       "\n",
       "#sk-container-id-1 label.sk-toggleable__label-arrow:hover:before {\n",
       "  color: var(--sklearn-color-text);\n",
       "}\n",
       "\n",
       "/* Toggleable content - dropdown */\n",
       "\n",
       "#sk-container-id-1 div.sk-toggleable__content {\n",
       "  max-height: 0;\n",
       "  max-width: 0;\n",
       "  overflow: hidden;\n",
       "  text-align: left;\n",
       "  /* unfitted */\n",
       "  background-color: var(--sklearn-color-unfitted-level-0);\n",
       "}\n",
       "\n",
       "#sk-container-id-1 div.sk-toggleable__content.fitted {\n",
       "  /* fitted */\n",
       "  background-color: var(--sklearn-color-fitted-level-0);\n",
       "}\n",
       "\n",
       "#sk-container-id-1 div.sk-toggleable__content pre {\n",
       "  margin: 0.2em;\n",
       "  border-radius: 0.25em;\n",
       "  color: var(--sklearn-color-text);\n",
       "  /* unfitted */\n",
       "  background-color: var(--sklearn-color-unfitted-level-0);\n",
       "}\n",
       "\n",
       "#sk-container-id-1 div.sk-toggleable__content.fitted pre {\n",
       "  /* unfitted */\n",
       "  background-color: var(--sklearn-color-fitted-level-0);\n",
       "}\n",
       "\n",
       "#sk-container-id-1 input.sk-toggleable__control:checked~div.sk-toggleable__content {\n",
       "  /* Expand drop-down */\n",
       "  max-height: 200px;\n",
       "  max-width: 100%;\n",
       "  overflow: auto;\n",
       "}\n",
       "\n",
       "#sk-container-id-1 input.sk-toggleable__control:checked~label.sk-toggleable__label-arrow:before {\n",
       "  content: \"▾\";\n",
       "}\n",
       "\n",
       "/* Pipeline/ColumnTransformer-specific style */\n",
       "\n",
       "#sk-container-id-1 div.sk-label input.sk-toggleable__control:checked~label.sk-toggleable__label {\n",
       "  color: var(--sklearn-color-text);\n",
       "  background-color: var(--sklearn-color-unfitted-level-2);\n",
       "}\n",
       "\n",
       "#sk-container-id-1 div.sk-label.fitted input.sk-toggleable__control:checked~label.sk-toggleable__label {\n",
       "  background-color: var(--sklearn-color-fitted-level-2);\n",
       "}\n",
       "\n",
       "/* Estimator-specific style */\n",
       "\n",
       "/* Colorize estimator box */\n",
       "#sk-container-id-1 div.sk-estimator input.sk-toggleable__control:checked~label.sk-toggleable__label {\n",
       "  /* unfitted */\n",
       "  background-color: var(--sklearn-color-unfitted-level-2);\n",
       "}\n",
       "\n",
       "#sk-container-id-1 div.sk-estimator.fitted input.sk-toggleable__control:checked~label.sk-toggleable__label {\n",
       "  /* fitted */\n",
       "  background-color: var(--sklearn-color-fitted-level-2);\n",
       "}\n",
       "\n",
       "#sk-container-id-1 div.sk-label label.sk-toggleable__label,\n",
       "#sk-container-id-1 div.sk-label label {\n",
       "  /* The background is the default theme color */\n",
       "  color: var(--sklearn-color-text-on-default-background);\n",
       "}\n",
       "\n",
       "/* On hover, darken the color of the background */\n",
       "#sk-container-id-1 div.sk-label:hover label.sk-toggleable__label {\n",
       "  color: var(--sklearn-color-text);\n",
       "  background-color: var(--sklearn-color-unfitted-level-2);\n",
       "}\n",
       "\n",
       "/* Label box, darken color on hover, fitted */\n",
       "#sk-container-id-1 div.sk-label.fitted:hover label.sk-toggleable__label.fitted {\n",
       "  color: var(--sklearn-color-text);\n",
       "  background-color: var(--sklearn-color-fitted-level-2);\n",
       "}\n",
       "\n",
       "/* Estimator label */\n",
       "\n",
       "#sk-container-id-1 div.sk-label label {\n",
       "  font-family: monospace;\n",
       "  font-weight: bold;\n",
       "  display: inline-block;\n",
       "  line-height: 1.2em;\n",
       "}\n",
       "\n",
       "#sk-container-id-1 div.sk-label-container {\n",
       "  text-align: center;\n",
       "}\n",
       "\n",
       "/* Estimator-specific */\n",
       "#sk-container-id-1 div.sk-estimator {\n",
       "  font-family: monospace;\n",
       "  border: 1px dotted var(--sklearn-color-border-box);\n",
       "  border-radius: 0.25em;\n",
       "  box-sizing: border-box;\n",
       "  margin-bottom: 0.5em;\n",
       "  /* unfitted */\n",
       "  background-color: var(--sklearn-color-unfitted-level-0);\n",
       "}\n",
       "\n",
       "#sk-container-id-1 div.sk-estimator.fitted {\n",
       "  /* fitted */\n",
       "  background-color: var(--sklearn-color-fitted-level-0);\n",
       "}\n",
       "\n",
       "/* on hover */\n",
       "#sk-container-id-1 div.sk-estimator:hover {\n",
       "  /* unfitted */\n",
       "  background-color: var(--sklearn-color-unfitted-level-2);\n",
       "}\n",
       "\n",
       "#sk-container-id-1 div.sk-estimator.fitted:hover {\n",
       "  /* fitted */\n",
       "  background-color: var(--sklearn-color-fitted-level-2);\n",
       "}\n",
       "\n",
       "/* Specification for estimator info (e.g. \"i\" and \"?\") */\n",
       "\n",
       "/* Common style for \"i\" and \"?\" */\n",
       "\n",
       ".sk-estimator-doc-link,\n",
       "a:link.sk-estimator-doc-link,\n",
       "a:visited.sk-estimator-doc-link {\n",
       "  float: right;\n",
       "  font-size: smaller;\n",
       "  line-height: 1em;\n",
       "  font-family: monospace;\n",
       "  background-color: var(--sklearn-color-background);\n",
       "  border-radius: 1em;\n",
       "  height: 1em;\n",
       "  width: 1em;\n",
       "  text-decoration: none !important;\n",
       "  margin-left: 1ex;\n",
       "  /* unfitted */\n",
       "  border: var(--sklearn-color-unfitted-level-1) 1pt solid;\n",
       "  color: var(--sklearn-color-unfitted-level-1);\n",
       "}\n",
       "\n",
       ".sk-estimator-doc-link.fitted,\n",
       "a:link.sk-estimator-doc-link.fitted,\n",
       "a:visited.sk-estimator-doc-link.fitted {\n",
       "  /* fitted */\n",
       "  border: var(--sklearn-color-fitted-level-1) 1pt solid;\n",
       "  color: var(--sklearn-color-fitted-level-1);\n",
       "}\n",
       "\n",
       "/* On hover */\n",
       "div.sk-estimator:hover .sk-estimator-doc-link:hover,\n",
       ".sk-estimator-doc-link:hover,\n",
       "div.sk-label-container:hover .sk-estimator-doc-link:hover,\n",
       ".sk-estimator-doc-link:hover {\n",
       "  /* unfitted */\n",
       "  background-color: var(--sklearn-color-unfitted-level-3);\n",
       "  color: var(--sklearn-color-background);\n",
       "  text-decoration: none;\n",
       "}\n",
       "\n",
       "div.sk-estimator.fitted:hover .sk-estimator-doc-link.fitted:hover,\n",
       ".sk-estimator-doc-link.fitted:hover,\n",
       "div.sk-label-container:hover .sk-estimator-doc-link.fitted:hover,\n",
       ".sk-estimator-doc-link.fitted:hover {\n",
       "  /* fitted */\n",
       "  background-color: var(--sklearn-color-fitted-level-3);\n",
       "  color: var(--sklearn-color-background);\n",
       "  text-decoration: none;\n",
       "}\n",
       "\n",
       "/* Span, style for the box shown on hovering the info icon */\n",
       ".sk-estimator-doc-link span {\n",
       "  display: none;\n",
       "  z-index: 9999;\n",
       "  position: relative;\n",
       "  font-weight: normal;\n",
       "  right: .2ex;\n",
       "  padding: .5ex;\n",
       "  margin: .5ex;\n",
       "  width: min-content;\n",
       "  min-width: 20ex;\n",
       "  max-width: 50ex;\n",
       "  color: var(--sklearn-color-text);\n",
       "  box-shadow: 2pt 2pt 4pt #999;\n",
       "  /* unfitted */\n",
       "  background: var(--sklearn-color-unfitted-level-0);\n",
       "  border: .5pt solid var(--sklearn-color-unfitted-level-3);\n",
       "}\n",
       "\n",
       ".sk-estimator-doc-link.fitted span {\n",
       "  /* fitted */\n",
       "  background: var(--sklearn-color-fitted-level-0);\n",
       "  border: var(--sklearn-color-fitted-level-3);\n",
       "}\n",
       "\n",
       ".sk-estimator-doc-link:hover span {\n",
       "  display: block;\n",
       "}\n",
       "\n",
       "/* \"?\"-specific style due to the `<a>` HTML tag */\n",
       "\n",
       "#sk-container-id-1 a.estimator_doc_link {\n",
       "  float: right;\n",
       "  font-size: 1rem;\n",
       "  line-height: 1em;\n",
       "  font-family: monospace;\n",
       "  background-color: var(--sklearn-color-background);\n",
       "  border-radius: 1rem;\n",
       "  height: 1rem;\n",
       "  width: 1rem;\n",
       "  text-decoration: none;\n",
       "  /* unfitted */\n",
       "  color: var(--sklearn-color-unfitted-level-1);\n",
       "  border: var(--sklearn-color-unfitted-level-1) 1pt solid;\n",
       "}\n",
       "\n",
       "#sk-container-id-1 a.estimator_doc_link.fitted {\n",
       "  /* fitted */\n",
       "  border: var(--sklearn-color-fitted-level-1) 1pt solid;\n",
       "  color: var(--sklearn-color-fitted-level-1);\n",
       "}\n",
       "\n",
       "/* On hover */\n",
       "#sk-container-id-1 a.estimator_doc_link:hover {\n",
       "  /* unfitted */\n",
       "  background-color: var(--sklearn-color-unfitted-level-3);\n",
       "  color: var(--sklearn-color-background);\n",
       "  text-decoration: none;\n",
       "}\n",
       "\n",
       "#sk-container-id-1 a.estimator_doc_link.fitted:hover {\n",
       "  /* fitted */\n",
       "  background-color: var(--sklearn-color-fitted-level-3);\n",
       "}\n",
       "</style><div id=\"sk-container-id-1\" class=\"sk-top-container\"><div class=\"sk-text-repr-fallback\"><pre>Pipeline(steps=[(&#x27;scaler&#x27;, StandardScaler()),\n",
       "                (&#x27;xgb&#x27;,\n",
       "                 XGBRegressor(base_score=None, booster=None, callbacks=None,\n",
       "                              colsample_bylevel=None, colsample_bynode=None,\n",
       "                              colsample_bytree=None, device=None,\n",
       "                              early_stopping_rounds=None,\n",
       "                              enable_categorical=False, eval_metric=None,\n",
       "                              feature_types=None, feature_weights=None,\n",
       "                              gamma=None, grow_policy=None,\n",
       "                              importance_type=None,\n",
       "                              interaction_constraints=None, learning_rate=None,\n",
       "                              max_bin=None, max_cat_threshold=None,\n",
       "                              max_cat_to_onehot=None, max_delta_step=None,\n",
       "                              max_depth=None, max_leaves=None,\n",
       "                              min_child_weight=None, missing=nan,\n",
       "                              monotone_constraints=None, multi_strategy=None,\n",
       "                              n_estimators=None, n_jobs=None,\n",
       "                              num_parallel_tree=None, ...))])</pre><b>In a Jupyter environment, please rerun this cell to show the HTML representation or trust the notebook. <br />On GitHub, the HTML representation is unable to render, please try loading this page with nbviewer.org.</b></div><div class=\"sk-container\" hidden><div class=\"sk-item sk-dashed-wrapped\"><div class=\"sk-label-container\"><div class=\"sk-label fitted sk-toggleable\"><input class=\"sk-toggleable__control sk-hidden--visually\" id=\"sk-estimator-id-1\" type=\"checkbox\" ><label for=\"sk-estimator-id-1\" class=\"sk-toggleable__label fitted sk-toggleable__label-arrow fitted\">&nbsp;&nbsp;Pipeline<a class=\"sk-estimator-doc-link fitted\" rel=\"noreferrer\" target=\"_blank\" href=\"https://scikit-learn.org/1.4/modules/generated/sklearn.pipeline.Pipeline.html\">?<span>Documentation for Pipeline</span></a><span class=\"sk-estimator-doc-link fitted\">i<span>Fitted</span></span></label><div class=\"sk-toggleable__content fitted\"><pre>Pipeline(steps=[(&#x27;scaler&#x27;, StandardScaler()),\n",
       "                (&#x27;xgb&#x27;,\n",
       "                 XGBRegressor(base_score=None, booster=None, callbacks=None,\n",
       "                              colsample_bylevel=None, colsample_bynode=None,\n",
       "                              colsample_bytree=None, device=None,\n",
       "                              early_stopping_rounds=None,\n",
       "                              enable_categorical=False, eval_metric=None,\n",
       "                              feature_types=None, feature_weights=None,\n",
       "                              gamma=None, grow_policy=None,\n",
       "                              importance_type=None,\n",
       "                              interaction_constraints=None, learning_rate=None,\n",
       "                              max_bin=None, max_cat_threshold=None,\n",
       "                              max_cat_to_onehot=None, max_delta_step=None,\n",
       "                              max_depth=None, max_leaves=None,\n",
       "                              min_child_weight=None, missing=nan,\n",
       "                              monotone_constraints=None, multi_strategy=None,\n",
       "                              n_estimators=None, n_jobs=None,\n",
       "                              num_parallel_tree=None, ...))])</pre></div> </div></div><div class=\"sk-serial\"><div class=\"sk-item\"><div class=\"sk-estimator fitted sk-toggleable\"><input class=\"sk-toggleable__control sk-hidden--visually\" id=\"sk-estimator-id-2\" type=\"checkbox\" ><label for=\"sk-estimator-id-2\" class=\"sk-toggleable__label fitted sk-toggleable__label-arrow fitted\">&nbsp;StandardScaler<a class=\"sk-estimator-doc-link fitted\" rel=\"noreferrer\" target=\"_blank\" href=\"https://scikit-learn.org/1.4/modules/generated/sklearn.preprocessing.StandardScaler.html\">?<span>Documentation for StandardScaler</span></a></label><div class=\"sk-toggleable__content fitted\"><pre>StandardScaler()</pre></div> </div></div><div class=\"sk-item\"><div class=\"sk-estimator fitted sk-toggleable\"><input class=\"sk-toggleable__control sk-hidden--visually\" id=\"sk-estimator-id-3\" type=\"checkbox\" ><label for=\"sk-estimator-id-3\" class=\"sk-toggleable__label fitted sk-toggleable__label-arrow fitted\">&nbsp;XGBRegressor<a class=\"sk-estimator-doc-link fitted\" rel=\"noreferrer\" target=\"_blank\" href=\"https://xgboost.readthedocs.io/en/release_3.0.0/python/python_api.html#xgboost.XGBRegressor\">?<span>Documentation for XGBRegressor</span></a></label><div class=\"sk-toggleable__content fitted\"><pre>XGBRegressor(base_score=None, booster=None, callbacks=None,\n",
       "             colsample_bylevel=None, colsample_bynode=None,\n",
       "             colsample_bytree=None, device=None, early_stopping_rounds=None,\n",
       "             enable_categorical=False, eval_metric=None, feature_types=None,\n",
       "             feature_weights=None, gamma=None, grow_policy=None,\n",
       "             importance_type=None, interaction_constraints=None,\n",
       "             learning_rate=None, max_bin=None, max_cat_threshold=None,\n",
       "             max_cat_to_onehot=None, max_delta_step=None, max_depth=None,\n",
       "             max_leaves=None, min_child_weight=None, missing=nan,\n",
       "             monotone_constraints=None, multi_strategy=None, n_estimators=None,\n",
       "             n_jobs=None, num_parallel_tree=None, ...)</pre></div> </div></div></div></div></div></div>"
      ],
      "text/plain": [
       "Pipeline(steps=[('scaler', StandardScaler()),\n",
       "                ('xgb',\n",
       "                 XGBRegressor(base_score=None, booster=None, callbacks=None,\n",
       "                              colsample_bylevel=None, colsample_bynode=None,\n",
       "                              colsample_bytree=None, device=None,\n",
       "                              early_stopping_rounds=None,\n",
       "                              enable_categorical=False, eval_metric=None,\n",
       "                              feature_types=None, feature_weights=None,\n",
       "                              gamma=None, grow_policy=None,\n",
       "                              importance_type=None,\n",
       "                              interaction_constraints=None, learning_rate=None,\n",
       "                              max_bin=None, max_cat_threshold=None,\n",
       "                              max_cat_to_onehot=None, max_delta_step=None,\n",
       "                              max_depth=None, max_leaves=None,\n",
       "                              min_child_weight=None, missing=nan,\n",
       "                              monotone_constraints=None, multi_strategy=None,\n",
       "                              n_estimators=None, n_jobs=None,\n",
       "                              num_parallel_tree=None, ...))])"
      ]
     },
     "execution_count": 96,
     "metadata": {},
     "output_type": "execute_result"
    }
   ],
   "source": [
    "pipeline.fit(X_train, y_train)\n"
   ]
  },
  {
   "cell_type": "code",
   "execution_count": 97,
   "id": "723c786c",
   "metadata": {
    "colab": {
     "base_uri": "https://localhost:8080/"
    },
    "id": "723c786c",
    "outputId": "05e10c03-7a02-40ee-f007-fac770fd5e8b"
   },
   "outputs": [
    {
     "name": "stdout",
     "output_type": "stream",
     "text": [
      "MAE: 2448.980535333807\n",
      "MSE: 27825383.762841433\n",
      "R² Score: 0.975926309471252\n"
     ]
    }
   ],
   "source": [
    "y_pred = pipeline.predict(X_test)\n",
    "\n",
    "mae = mean_absolute_error(y_test, y_pred)\n",
    "mse = mean_squared_error(y_test, y_pred)\n",
    "r2 = r2_score(y_test, y_pred)\n",
    "\n",
    "print(f'MAE: {mae}')\n",
    "print(f'MSE: {mse}')\n",
    "print(f'R² Score: {r2}')\n"
   ]
  },
  {
   "cell_type": "markdown",
   "id": "dcd1a35f-6291-46e8-9b6d-939d6e96fe95",
   "metadata": {},
   "source": [
    "### Final Result\n",
    "\n",
    "**MAE: 2448.980535333807**\n",
    "\n",
    "**RMSE: 5273.076**\n",
    "\n",
    "**R² Score: 0.975926309471252**"
   ]
  },
  {
   "cell_type": "code",
   "execution_count": 99,
   "id": "04971a05",
   "metadata": {
    "id": "04971a05"
   },
   "outputs": [],
   "source": [
    "import pickle\n",
    "\n",
    "# Save the model\n",
    "with open('model.pkl', 'wb') as file:\n",
    "    pickle.dump(pipeline, file)\n"
   ]
  },
  {
   "cell_type": "code",
   "execution_count": null,
   "id": "56573e35",
   "metadata": {
    "id": "56573e35"
   },
   "outputs": [],
   "source": []
  }
 ],
 "metadata": {
  "colab": {
   "include_colab_link": true,
   "provenance": []
  },
  "kernelspec": {
   "display_name": "Python 3 (ipykernel)",
   "language": "python",
   "name": "python3"
  },
  "language_info": {
   "codemirror_mode": {
    "name": "ipython",
    "version": 3
   },
   "file_extension": ".py",
   "mimetype": "text/x-python",
   "name": "python",
   "nbconvert_exporter": "python",
   "pygments_lexer": "ipython3",
   "version": "3.12.4"
  }
 },
 "nbformat": 4,
 "nbformat_minor": 5
}
